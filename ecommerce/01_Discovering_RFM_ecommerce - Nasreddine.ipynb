{
 "cells": [
  {
   "cell_type": "markdown",
   "id": "525892ae",
   "metadata": {
    "toc": true
   },
   "source": [
    "<h1>Table of Contents<span class=\"tocSkip\"></span></h1>\n",
    "<div class=\"toc\"><ul class=\"toc-item\"><li><span><a href=\"#Customer-analysis\" data-toc-modified-id=\"Customer-analysis-1\"><span class=\"toc-item-num\">1&nbsp;&nbsp;</span>Customer analysis</a></span></li><li><span><a href=\"#Understanding-RFM-Segmentation\" data-toc-modified-id=\"Understanding-RFM-Segmentation-2\"><span class=\"toc-item-num\">2&nbsp;&nbsp;</span>Understanding RFM Segmentation</a></span></li><li><span><a href=\"#Exploratory-Data-Analysis\" data-toc-modified-id=\"Exploratory-Data-Analysis-3\"><span class=\"toc-item-num\">3&nbsp;&nbsp;</span>Exploratory Data Analysis</a></span><ul class=\"toc-item\"><li><span><a href=\"#Group-BY\" data-toc-modified-id=\"Group-BY-3.1\"><span class=\"toc-item-num\">3.1&nbsp;&nbsp;</span>Group BY</a></span><ul class=\"toc-item\"><li><span><a href=\"#Groupement-pour-calculer-montant\" data-toc-modified-id=\"Groupement-pour-calculer-montant-3.1.1\"><span class=\"toc-item-num\">3.1.1&nbsp;&nbsp;</span>Groupement pour calculer montant</a></span></li><li><span><a href=\"#Groupement-pour-calculer-Fréquence\" data-toc-modified-id=\"Groupement-pour-calculer-Fréquence-3.1.2\"><span class=\"toc-item-num\">3.1.2&nbsp;&nbsp;</span>Groupement pour calculer Fréquence</a></span></li></ul></li></ul></li><li><span><a href=\"#Working-with-cohorts\" data-toc-modified-id=\"Working-with-cohorts-4\"><span class=\"toc-item-num\">4&nbsp;&nbsp;</span>Working with cohorts</a></span></li></ul></div>"
   ]
  },
  {
   "cell_type": "markdown",
   "id": "d65c38e9",
   "metadata": {},
   "source": [
    "# Customer analysis"
   ]
  },
  {
   "cell_type": "markdown",
   "id": "d46d5e36",
   "metadata": {},
   "source": [
    "In this exercise, you work for a consulting firm as data analyst. One of your clients asked for help to understand its customer buying behavior. \n",
    "\n",
    "You dispose of a dataset from its e-commerce website with 13 features : \n",
    "\n",
    "- order_id : ID if the order\n",
    "- order_status : Status of the order\n",
    "- order_purchase_timestamp : Timestamp of the purchase\n",
    "- order_delivered_customer_date : Timestamp of the delivery to the customer\n",
    "- payment_type : Method of payment\n",
    "- payment_installments : Number of payments for this purchase (does NOT affect the payment value)\n",
    "- payment_value : Total amount of the payment\n",
    "- review_score : Score given by the client, ranges from 1 to 5\n",
    "- customer_unique_id : ID of the customer who purchased\n",
    "- customer_zip_code_prefix : Zip code of the customer\n",
    "- customer_city : City of the customer\n",
    "- customer_state : State of the customer\n",
    "- product_category_name_english : Name of the product category in English\n",
    "\n",
    "With this data, you have to analyze customer behavior with two techniques:\n",
    "\n",
    "- Customer segmentation with RFM\n",
    "- Cohort analysis from Sept 2016 to October 2018.\n",
    "\n",
    "At the end, you have to present your analysis with actionable insights to improve the customer relationship of your client. "
   ]
  },
  {
   "cell_type": "markdown",
   "id": "2ed8b5d5",
   "metadata": {},
   "source": [
    "# Understanding RFM Segmentation "
   ]
  },
  {
   "cell_type": "markdown",
   "id": "e9779fa0",
   "metadata": {
    "ExecuteTime": {
     "end_time": "2021-09-30T14:30:02.324575Z",
     "start_time": "2021-09-30T14:30:02.319234Z"
    }
   },
   "source": [
    "❓ What are the 3 metrics used in an RFM Segmentation? (hint : What does RFM stand for?) "
   ]
  },
  {
   "cell_type": "markdown",
   "id": "5097ebc7",
   "metadata": {},
   "source": [
    "**Recency** – How recently did the customer purchase?  \n",
    "**Frequency** – How often do they purchase?  \n",
    "**Monetary Value** – How much do they spend?  "
   ]
  },
  {
   "cell_type": "markdown",
   "id": "93cc5289",
   "metadata": {},
   "source": [
    "❓ Can you summarize what each metric measures in one sentence?"
   ]
  },
  {
   "cell_type": "markdown",
   "id": "8e387093",
   "metadata": {},
   "source": [
    "How recently did the customer purchase?  \n",
    "How often do they purchase?  \n",
    "How much do they spend?"
   ]
  },
  {
   "cell_type": "markdown",
   "id": "c3ac407d",
   "metadata": {},
   "source": [
    "❓ What data / or type of data do you need for each metric ? "
   ]
  },
  {
   "cell_type": "markdown",
   "id": "c070a07c",
   "metadata": {},
   "source": [
    "**Customer id**  \n",
    "**Purchase orders**  \n",
    "**Dates of order**"
   ]
  },
  {
   "cell_type": "markdown",
   "id": "3016a27d",
   "metadata": {},
   "source": [
    "Let's explore the dataset!"
   ]
  },
  {
   "cell_type": "markdown",
   "id": "94a3d1eb",
   "metadata": {},
   "source": [
    "# Exploratory Data Analysis"
   ]
  },
  {
   "cell_type": "markdown",
   "id": "750aee80",
   "metadata": {},
   "source": [
    "Load the dataset and start an Exploratory Data Analysis"
   ]
  },
  {
   "cell_type": "code",
   "execution_count": 1,
   "id": "e3a127fa",
   "metadata": {},
   "outputs": [],
   "source": [
    "import pandas as pd\n",
    "import plotly.express as px"
   ]
  },
  {
   "cell_type": "code",
   "execution_count": 3,
   "id": "4c967555",
   "metadata": {
    "ExecuteTime": {
     "end_time": "2021-10-03T14:07:52.111600Z",
     "start_time": "2021-10-03T14:07:51.598182Z"
    }
   },
   "outputs": [
    {
     "data": {
      "text/html": [
       "<div>\n",
       "<style scoped>\n",
       "    .dataframe tbody tr th:only-of-type {\n",
       "        vertical-align: middle;\n",
       "    }\n",
       "\n",
       "    .dataframe tbody tr th {\n",
       "        vertical-align: top;\n",
       "    }\n",
       "\n",
       "    .dataframe thead th {\n",
       "        text-align: right;\n",
       "    }\n",
       "</style>\n",
       "<table border=\"1\" class=\"dataframe\">\n",
       "  <thead>\n",
       "    <tr style=\"text-align: right;\">\n",
       "      <th></th>\n",
       "      <th>order_id</th>\n",
       "      <th>order_status</th>\n",
       "      <th>order_purchase_timestamp</th>\n",
       "      <th>order_delivered_customer_date</th>\n",
       "      <th>payment_type</th>\n",
       "      <th>payment_installments</th>\n",
       "      <th>payment_value</th>\n",
       "      <th>review_score</th>\n",
       "      <th>customer_unique_id</th>\n",
       "      <th>customer_zip_code_prefix</th>\n",
       "      <th>customer_city</th>\n",
       "      <th>customer_state</th>\n",
       "      <th>product_category_name_english</th>\n",
       "    </tr>\n",
       "  </thead>\n",
       "  <tbody>\n",
       "    <tr>\n",
       "      <th>0</th>\n",
       "      <td>e481f51cbdc54678b7cc49136f2d6af7</td>\n",
       "      <td>delivered</td>\n",
       "      <td>2017-10-02 10:56:33</td>\n",
       "      <td>2017-10-10 21:25:13</td>\n",
       "      <td>credit_card</td>\n",
       "      <td>1.0</td>\n",
       "      <td>18.12</td>\n",
       "      <td>4</td>\n",
       "      <td>7c396fd4830fd04220f754e42b4e5bff</td>\n",
       "      <td>3149</td>\n",
       "      <td>sao paulo</td>\n",
       "      <td>SP</td>\n",
       "      <td>housewares</td>\n",
       "    </tr>\n",
       "    <tr>\n",
       "      <th>1</th>\n",
       "      <td>e481f51cbdc54678b7cc49136f2d6af7</td>\n",
       "      <td>delivered</td>\n",
       "      <td>2017-10-02 10:56:33</td>\n",
       "      <td>2017-10-10 21:25:13</td>\n",
       "      <td>voucher</td>\n",
       "      <td>1.0</td>\n",
       "      <td>2.00</td>\n",
       "      <td>4</td>\n",
       "      <td>7c396fd4830fd04220f754e42b4e5bff</td>\n",
       "      <td>3149</td>\n",
       "      <td>sao paulo</td>\n",
       "      <td>SP</td>\n",
       "      <td>housewares</td>\n",
       "    </tr>\n",
       "    <tr>\n",
       "      <th>2</th>\n",
       "      <td>e481f51cbdc54678b7cc49136f2d6af7</td>\n",
       "      <td>delivered</td>\n",
       "      <td>2017-10-02 10:56:33</td>\n",
       "      <td>2017-10-10 21:25:13</td>\n",
       "      <td>voucher</td>\n",
       "      <td>1.0</td>\n",
       "      <td>18.59</td>\n",
       "      <td>4</td>\n",
       "      <td>7c396fd4830fd04220f754e42b4e5bff</td>\n",
       "      <td>3149</td>\n",
       "      <td>sao paulo</td>\n",
       "      <td>SP</td>\n",
       "      <td>housewares</td>\n",
       "    </tr>\n",
       "    <tr>\n",
       "      <th>3</th>\n",
       "      <td>53cdb2fc8bc7dce0b6741e2150273451</td>\n",
       "      <td>delivered</td>\n",
       "      <td>2018-07-24 20:41:37</td>\n",
       "      <td>2018-08-07 15:27:45</td>\n",
       "      <td>boleto</td>\n",
       "      <td>1.0</td>\n",
       "      <td>141.46</td>\n",
       "      <td>4</td>\n",
       "      <td>af07308b275d755c9edb36a90c618231</td>\n",
       "      <td>47813</td>\n",
       "      <td>barreiras</td>\n",
       "      <td>BA</td>\n",
       "      <td>perfumery</td>\n",
       "    </tr>\n",
       "    <tr>\n",
       "      <th>4</th>\n",
       "      <td>47770eb9100c2d0c44946d9cf07ec65d</td>\n",
       "      <td>delivered</td>\n",
       "      <td>2018-08-08 08:38:49</td>\n",
       "      <td>2018-08-17 18:06:29</td>\n",
       "      <td>credit_card</td>\n",
       "      <td>3.0</td>\n",
       "      <td>179.12</td>\n",
       "      <td>5</td>\n",
       "      <td>3a653a41f6f9fc3d2a113cf8398680e8</td>\n",
       "      <td>75265</td>\n",
       "      <td>vianopolis</td>\n",
       "      <td>GO</td>\n",
       "      <td>auto</td>\n",
       "    </tr>\n",
       "    <tr>\n",
       "      <th>...</th>\n",
       "      <td>...</td>\n",
       "      <td>...</td>\n",
       "      <td>...</td>\n",
       "      <td>...</td>\n",
       "      <td>...</td>\n",
       "      <td>...</td>\n",
       "      <td>...</td>\n",
       "      <td>...</td>\n",
       "      <td>...</td>\n",
       "      <td>...</td>\n",
       "      <td>...</td>\n",
       "      <td>...</td>\n",
       "      <td>...</td>\n",
       "    </tr>\n",
       "    <tr>\n",
       "      <th>105378</th>\n",
       "      <td>9c5dedf39a927c1b2549525ed64a053c</td>\n",
       "      <td>delivered</td>\n",
       "      <td>2017-03-09 09:54:05</td>\n",
       "      <td>2017-03-17 15:08:01</td>\n",
       "      <td>credit_card</td>\n",
       "      <td>3.0</td>\n",
       "      <td>85.08</td>\n",
       "      <td>5</td>\n",
       "      <td>6359f309b166b0196dbf7ad2ac62bb5a</td>\n",
       "      <td>12209</td>\n",
       "      <td>sao jose dos campos</td>\n",
       "      <td>SP</td>\n",
       "      <td>health_beauty</td>\n",
       "    </tr>\n",
       "    <tr>\n",
       "      <th>105379</th>\n",
       "      <td>63943bddc261676b46f01ca7ac2f7bd8</td>\n",
       "      <td>delivered</td>\n",
       "      <td>2018-02-06 12:58:58</td>\n",
       "      <td>2018-02-28 17:37:56</td>\n",
       "      <td>credit_card</td>\n",
       "      <td>3.0</td>\n",
       "      <td>195.00</td>\n",
       "      <td>4</td>\n",
       "      <td>da62f9e57a76d978d02ab5362c509660</td>\n",
       "      <td>11722</td>\n",
       "      <td>praia grande</td>\n",
       "      <td>SP</td>\n",
       "      <td>baby</td>\n",
       "    </tr>\n",
       "    <tr>\n",
       "      <th>105380</th>\n",
       "      <td>83c1379a015df1e13d02aae0204711ab</td>\n",
       "      <td>delivered</td>\n",
       "      <td>2017-08-27 14:46:43</td>\n",
       "      <td>2017-09-21 11:24:17</td>\n",
       "      <td>credit_card</td>\n",
       "      <td>5.0</td>\n",
       "      <td>271.01</td>\n",
       "      <td>5</td>\n",
       "      <td>737520a9aad80b3fbbdad19b66b37b30</td>\n",
       "      <td>45920</td>\n",
       "      <td>nova vicosa</td>\n",
       "      <td>BA</td>\n",
       "      <td>home_appliances_2</td>\n",
       "    </tr>\n",
       "    <tr>\n",
       "      <th>105381</th>\n",
       "      <td>11c177c8e97725db2631073c19f07b62</td>\n",
       "      <td>delivered</td>\n",
       "      <td>2018-01-08 21:28:27</td>\n",
       "      <td>2018-01-25 23:32:54</td>\n",
       "      <td>credit_card</td>\n",
       "      <td>4.0</td>\n",
       "      <td>441.16</td>\n",
       "      <td>2</td>\n",
       "      <td>5097a5312c8b157bb7be58ae360ef43c</td>\n",
       "      <td>28685</td>\n",
       "      <td>japuiba</td>\n",
       "      <td>RJ</td>\n",
       "      <td>computers_accessories</td>\n",
       "    </tr>\n",
       "    <tr>\n",
       "      <th>105382</th>\n",
       "      <td>66dea50a8b16d9b4dee7af250b4be1a5</td>\n",
       "      <td>delivered</td>\n",
       "      <td>2018-03-08 20:57:30</td>\n",
       "      <td>2018-03-16 13:08:30</td>\n",
       "      <td>debit_card</td>\n",
       "      <td>1.0</td>\n",
       "      <td>86.86</td>\n",
       "      <td>5</td>\n",
       "      <td>60350aa974b26ff12caad89e55993bd6</td>\n",
       "      <td>83750</td>\n",
       "      <td>lapa</td>\n",
       "      <td>PR</td>\n",
       "      <td>health_beauty</td>\n",
       "    </tr>\n",
       "  </tbody>\n",
       "</table>\n",
       "<p>105383 rows × 13 columns</p>\n",
       "</div>"
      ],
      "text/plain": [
       "                                order_id order_status  \\\n",
       "0       e481f51cbdc54678b7cc49136f2d6af7    delivered   \n",
       "1       e481f51cbdc54678b7cc49136f2d6af7    delivered   \n",
       "2       e481f51cbdc54678b7cc49136f2d6af7    delivered   \n",
       "3       53cdb2fc8bc7dce0b6741e2150273451    delivered   \n",
       "4       47770eb9100c2d0c44946d9cf07ec65d    delivered   \n",
       "...                                  ...          ...   \n",
       "105378  9c5dedf39a927c1b2549525ed64a053c    delivered   \n",
       "105379  63943bddc261676b46f01ca7ac2f7bd8    delivered   \n",
       "105380  83c1379a015df1e13d02aae0204711ab    delivered   \n",
       "105381  11c177c8e97725db2631073c19f07b62    delivered   \n",
       "105382  66dea50a8b16d9b4dee7af250b4be1a5    delivered   \n",
       "\n",
       "       order_purchase_timestamp order_delivered_customer_date payment_type  \\\n",
       "0           2017-10-02 10:56:33           2017-10-10 21:25:13  credit_card   \n",
       "1           2017-10-02 10:56:33           2017-10-10 21:25:13      voucher   \n",
       "2           2017-10-02 10:56:33           2017-10-10 21:25:13      voucher   \n",
       "3           2018-07-24 20:41:37           2018-08-07 15:27:45       boleto   \n",
       "4           2018-08-08 08:38:49           2018-08-17 18:06:29  credit_card   \n",
       "...                         ...                           ...          ...   \n",
       "105378      2017-03-09 09:54:05           2017-03-17 15:08:01  credit_card   \n",
       "105379      2018-02-06 12:58:58           2018-02-28 17:37:56  credit_card   \n",
       "105380      2017-08-27 14:46:43           2017-09-21 11:24:17  credit_card   \n",
       "105381      2018-01-08 21:28:27           2018-01-25 23:32:54  credit_card   \n",
       "105382      2018-03-08 20:57:30           2018-03-16 13:08:30   debit_card   \n",
       "\n",
       "        payment_installments  payment_value  review_score  \\\n",
       "0                        1.0          18.12             4   \n",
       "1                        1.0           2.00             4   \n",
       "2                        1.0          18.59             4   \n",
       "3                        1.0         141.46             4   \n",
       "4                        3.0         179.12             5   \n",
       "...                      ...            ...           ...   \n",
       "105378                   3.0          85.08             5   \n",
       "105379                   3.0         195.00             4   \n",
       "105380                   5.0         271.01             5   \n",
       "105381                   4.0         441.16             2   \n",
       "105382                   1.0          86.86             5   \n",
       "\n",
       "                      customer_unique_id  customer_zip_code_prefix  \\\n",
       "0       7c396fd4830fd04220f754e42b4e5bff                      3149   \n",
       "1       7c396fd4830fd04220f754e42b4e5bff                      3149   \n",
       "2       7c396fd4830fd04220f754e42b4e5bff                      3149   \n",
       "3       af07308b275d755c9edb36a90c618231                     47813   \n",
       "4       3a653a41f6f9fc3d2a113cf8398680e8                     75265   \n",
       "...                                  ...                       ...   \n",
       "105378  6359f309b166b0196dbf7ad2ac62bb5a                     12209   \n",
       "105379  da62f9e57a76d978d02ab5362c509660                     11722   \n",
       "105380  737520a9aad80b3fbbdad19b66b37b30                     45920   \n",
       "105381  5097a5312c8b157bb7be58ae360ef43c                     28685   \n",
       "105382  60350aa974b26ff12caad89e55993bd6                     83750   \n",
       "\n",
       "              customer_city customer_state product_category_name_english  \n",
       "0                 sao paulo             SP                    housewares  \n",
       "1                 sao paulo             SP                    housewares  \n",
       "2                 sao paulo             SP                    housewares  \n",
       "3                 barreiras             BA                     perfumery  \n",
       "4                vianopolis             GO                          auto  \n",
       "...                     ...            ...                           ...  \n",
       "105378  sao jose dos campos             SP                 health_beauty  \n",
       "105379         praia grande             SP                          baby  \n",
       "105380          nova vicosa             BA             home_appliances_2  \n",
       "105381              japuiba             RJ         computers_accessories  \n",
       "105382                 lapa             PR                 health_beauty  \n",
       "\n",
       "[105383 rows x 13 columns]"
      ]
     },
     "execution_count": 3,
     "metadata": {},
     "output_type": "execute_result"
    }
   ],
   "source": [
    "df = pd.read_csv('db_customers.csv')\n",
    "df"
   ]
  },
  {
   "cell_type": "markdown",
   "id": "9a5b860b",
   "metadata": {},
   "source": [
    "❓ Which features should be formated in datetime ? \n",
    "Convert them"
   ]
  },
  {
   "cell_type": "markdown",
   "id": "2e6685bf",
   "metadata": {
    "ExecuteTime": {
     "end_time": "2021-10-03T14:07:52.225702Z",
     "start_time": "2021-10-03T14:07:52.135148Z"
    }
   },
   "source": [
    "**order_purchase_timestamp**  \n",
    "**order_delivered_customer_date**"
   ]
  },
  {
   "cell_type": "code",
   "execution_count": null,
   "id": "e8e1d6c9",
   "metadata": {},
   "outputs": [],
   "source": [
    "df[\"order_purchase_timestamp\"]= pd.to_datetime(df[\"order_purchase_timestamp\"])\n",
    "df[\"order_delivered_customer_date\"]= pd.to_datetime(df[\"order_delivered_customer_date\"])"
   ]
  },
  {
   "cell_type": "markdown",
   "id": "761fc870",
   "metadata": {},
   "source": [
    "❓ Which features are Categorical ? List the unique values on these features."
   ]
  },
  {
   "cell_type": "code",
   "execution_count": null,
   "id": "dd808886",
   "metadata": {},
   "outputs": [],
   "source": [
    "df.info()"
   ]
  },
  {
   "cell_type": "markdown",
   "id": "5e4b2955",
   "metadata": {},
   "source": [
    "Categorical features:  \n",
    "**order_status**  \n",
    "**payment_type**  \n",
    "**review_score**  \n",
    "**payment_installments**  \n",
    "**customer_zip_code_prefix**  \n",
    "**customer_city**  \n",
    "**customer_state**  \n",
    "**product_category_name_english**"
   ]
  },
  {
   "cell_type": "code",
   "execution_count": null,
   "id": "23945448",
   "metadata": {},
   "outputs": [],
   "source": [
    "print(df[\"order_status\"].value_counts())\n",
    "print(df[\"payment_type\"].value_counts())\n",
    "print(df[\"review_score\"].value_counts())\n",
    "print(df[\"payment_installments\"].value_counts())\n",
    "print(df[\"customer_zip_code_prefix\"].value_counts())\n",
    "print(df[\"customer_city\"].value_counts())\n",
    "print(df[\"customer_state\"].value_counts())\n",
    "print(df[\"product_category_name_english\"].value_counts())"
   ]
  },
  {
   "cell_type": "markdown",
   "id": "aa8a0d75",
   "metadata": {},
   "source": [
    "❓ Check for missing values. What do you notice ? \n"
   ]
  },
  {
   "cell_type": "code",
   "execution_count": null,
   "id": "e1468874",
   "metadata": {
    "scrolled": false
   },
   "outputs": [],
   "source": [
    "df.isnull().sum()"
   ]
  },
  {
   "cell_type": "code",
   "execution_count": null,
   "id": "c2e9bfba",
   "metadata": {},
   "outputs": [],
   "source": [
    "df[df[\"payment_type\"].isnull()]"
   ]
  },
  {
   "cell_type": "markdown",
   "id": "67a5f66b",
   "metadata": {},
   "source": [
    "**There are missing values!**"
   ]
  },
  {
   "cell_type": "code",
   "execution_count": null,
   "id": "7fe84f27",
   "metadata": {},
   "outputs": [],
   "source": [
    "df[df[\"product_category_name_english\"].isnull()].head()"
   ]
  },
  {
   "cell_type": "code",
   "execution_count": null,
   "id": "f971e4ab",
   "metadata": {},
   "outputs": [],
   "source": [
    "df[df[\"order_delivered_customer_date\"].isnull()].head()"
   ]
  },
  {
   "cell_type": "markdown",
   "id": "f18ffe7a",
   "metadata": {},
   "source": [
    "❓ Can you find an explanation for the missing `order_delivered_customer_date` ? \n",
    "(hint : Check for non delivered orders)"
   ]
  },
  {
   "cell_type": "markdown",
   "id": "438a9731",
   "metadata": {},
   "source": [
    "**Not yet delivered**"
   ]
  },
  {
   "cell_type": "markdown",
   "id": "8d5de274",
   "metadata": {},
   "source": [
    "❓ What are the proportions of each `order_status` ? "
   ]
  },
  {
   "cell_type": "code",
   "execution_count": null,
   "id": "07d50fb8",
   "metadata": {
    "scrolled": true
   },
   "outputs": [],
   "source": [
    "df[\"order_status\"].value_counts()"
   ]
  },
  {
   "cell_type": "code",
   "execution_count": null,
   "id": "1a50b47c",
   "metadata": {},
   "outputs": [],
   "source": [
    "fig = px.pie(df[\"order_status\"], values=df[\"order_status\"].value_counts(), names=df[\"order_status\"].unique())\n",
    "fig.show()"
   ]
  },
  {
   "cell_type": "markdown",
   "id": "6e61be3d",
   "metadata": {},
   "source": [
    "❓ Which `order_status` do you think should be removed from the analysis"
   ]
  },
  {
   "cell_type": "markdown",
   "id": "829a6918",
   "metadata": {},
   "source": [
    "We keep :  \n",
    "- **delivered**  \n",
    "- **shipped**"
   ]
  },
  {
   "cell_type": "code",
   "execution_count": null,
   "id": "09898eb2",
   "metadata": {},
   "outputs": [],
   "source": [
    "delivered_shipped = df[(df[\"order_status\"]==\"delivered\") | (df[\"order_status\"]==\"shipped\")]"
   ]
  },
  {
   "cell_type": "code",
   "execution_count": null,
   "id": "baf959b3",
   "metadata": {},
   "outputs": [],
   "source": [
    "delivered_shipped"
   ]
  },
  {
   "cell_type": "markdown",
   "id": "b9537e5a",
   "metadata": {},
   "source": [
    "❓ What feature would you choose in the e-commerce dataset provided? "
   ]
  },
  {
   "cell_type": "markdown",
   "id": "a0d08b82",
   "metadata": {},
   "source": [
    "**order_id**  \n",
    "**order_purchase_timestamp**  \n",
    "**payment_value**  \n",
    "**customer_unique_id**"
   ]
  },
  {
   "cell_type": "markdown",
   "id": "ef228bb7",
   "metadata": {},
   "source": [
    "## Group BY"
   ]
  },
  {
   "cell_type": "code",
   "execution_count": null,
   "id": "e430d822",
   "metadata": {},
   "outputs": [],
   "source": [
    "df2 = delivered_shipped[[\"customer_unique_id\",\"order_id\",\"order_purchase_timestamp\",\"payment_value\"]]"
   ]
  },
  {
   "cell_type": "markdown",
   "id": "2686e139",
   "metadata": {},
   "source": [
    "❓ What method would you use to group the data? "
   ]
  },
  {
   "cell_type": "markdown",
   "id": "9dd40be1",
   "metadata": {},
   "source": [
    "**groupby**  \n",
    "**pivot_table**  \n",
    "**agg**"
   ]
  },
  {
   "cell_type": "markdown",
   "id": "19582eb3",
   "metadata": {},
   "source": [
    "❓ What feature would you use to group the data? "
   ]
  },
  {
   "cell_type": "markdown",
   "id": "8c53f476",
   "metadata": {},
   "source": [
    "**customer_unique_id**"
   ]
  },
  {
   "cell_type": "markdown",
   "id": "744a2b4e",
   "metadata": {
    "ExecuteTime": {
     "end_time": "2021-09-30T14:45:48.656723Z",
     "start_time": "2021-09-30T14:45:48.652125Z"
    }
   },
   "source": [
    "Group the data. (Hint: you can carry out the grouping one by one and then merge, or even better use the .agg method and get a robust grouping in one line of code)"
   ]
  },
  {
   "cell_type": "markdown",
   "id": "93b712ea",
   "metadata": {},
   "source": [
    "### Groupement pour calculer montant"
   ]
  },
  {
   "cell_type": "code",
   "execution_count": null,
   "id": "fd746264",
   "metadata": {
    "scrolled": false
   },
   "outputs": [],
   "source": [
    "montant = df2.groupby(['customer_unique_id']).agg(Montant=pd.NamedAgg(column='payment_value', aggfunc='sum')).reset_index()\n",
    "montant"
   ]
  },
  {
   "cell_type": "markdown",
   "id": "372b59b4",
   "metadata": {},
   "source": [
    "### Groupement pour calculer Fréquence"
   ]
  },
  {
   "cell_type": "code",
   "execution_count": null,
   "id": "62be5226",
   "metadata": {},
   "outputs": [],
   "source": [
    "frequence=df2.groupby([\"customer_unique_id\"]).max()\n",
    "frequence[\"frequence\"] = frequence.groupby([\"order_id\"]).count()\n",
    "frequence"
   ]
  },
  {
   "cell_type": "code",
   "execution_count": null,
   "id": "f667b5b7",
   "metadata": {},
   "outputs": [],
   "source": [
    "frequence[\"Fréquence\"].unique()"
   ]
  },
  {
   "cell_type": "code",
   "execution_count": null,
   "id": "25ae01fd",
   "metadata": {},
   "outputs": [],
   "source": [
    "dftest=df2.groupby(['customer_unique_id']).agg(Montant=pd.NamedAgg(column='payment_value', aggfunc='sum'),\n",
    "                                               Fréquence=pd.NamedAgg(column='order_id', aggfunc='count')).reset_index()\n",
    "dftest"
   ]
  },
  {
   "cell_type": "code",
   "execution_count": null,
   "id": "6c01f03e",
   "metadata": {},
   "outputs": [],
   "source": [
    "dftest[\"Fréquence\"].value_counts()"
   ]
  },
  {
   "cell_type": "markdown",
   "id": "1c34e18d",
   "metadata": {},
   "source": [
    "What type of data is the R supposed to be? Is it in the right format? (Hint : investigate the difference between `datetime` and `timedelta`) "
   ]
  },
  {
   "cell_type": "markdown",
   "id": "0dc0b2cd",
   "metadata": {},
   "source": [
    "**INT (number of days) / No, it's a datetime**"
   ]
  },
  {
   "cell_type": "markdown",
   "id": "13cdae06",
   "metadata": {
    "ExecuteTime": {
     "end_time": "2021-09-30T17:12:07.784903Z",
     "start_time": "2021-09-30T17:12:07.774134Z"
    }
   },
   "source": [
    "So there is one more step to carry out before the data is ready : Calculate the recency base on the date of the purchase"
   ]
  },
  {
   "cell_type": "markdown",
   "id": "9bfc2b29",
   "metadata": {},
   "source": [
    "❓ What is the date of the least recent purchase?"
   ]
  },
  {
   "cell_type": "code",
   "execution_count": null,
   "id": "a6648cbb",
   "metadata": {},
   "outputs": [],
   "source": [
    "min(df2[\"order_purchase_timestamp\"])"
   ]
  },
  {
   "cell_type": "markdown",
   "id": "e273861d",
   "metadata": {
    "ExecuteTime": {
     "end_time": "2021-09-30T17:14:26.599702Z",
     "start_time": "2021-09-30T17:14:26.592777Z"
    }
   },
   "source": [
    "❓What is the date of the most recent purchase?"
   ]
  },
  {
   "cell_type": "code",
   "execution_count": null,
   "id": "7a7611c1",
   "metadata": {},
   "outputs": [],
   "source": [
    "max(df2[\"order_purchase_timestamp\"])"
   ]
  },
  {
   "cell_type": "markdown",
   "id": "8a1d5797",
   "metadata": {},
   "source": [
    "❓How would you calculate the recency? (hint: what date would you use to compare with the purchase date? Today? probably not...)"
   ]
  },
  {
   "cell_type": "markdown",
   "id": "57f19108",
   "metadata": {},
   "source": [
    "**most recent purchase**"
   ]
  },
  {
   "cell_type": "markdown",
   "id": "c778a48b",
   "metadata": {},
   "source": [
    "Create a feature calculating the difference between `the most recent purchased + 1 day`, and `order_purchase_timestamp`."
   ]
  },
  {
   "cell_type": "code",
   "execution_count": null,
   "id": "21ecb8d0",
   "metadata": {},
   "outputs": [],
   "source": [
    "date_format = \"%m/%d/%Y\"\n",
    "a = df2['order_purchase_timestamp']\n",
    "b = max(df2['order_purchase_timestamp'])\n",
    "df2['recence'] = b-a\n",
    "df2['recence'] = df2['recence'].astype('timedelta64[D]')\n",
    "E = df2.groupby('customer_unique_id')[[\"recence\"]].min()"
   ]
  },
  {
   "cell_type": "code",
   "execution_count": null,
   "id": "8fe142cc",
   "metadata": {},
   "outputs": [],
   "source": [
    "df_rfm = dftest.merge(E, how = 'left', left_on='customer_unique_id', right_on='customer_unique_id')"
   ]
  },
  {
   "cell_type": "code",
   "execution_count": null,
   "id": "d59b23c4",
   "metadata": {},
   "outputs": [],
   "source": [
    "df_rfm"
   ]
  },
  {
   "cell_type": "markdown",
   "id": "335ee13e",
   "metadata": {},
   "source": [
    "Now that you have created a new dataset with the right columns, explore it to understand what you created."
   ]
  },
  {
   "cell_type": "markdown",
   "id": "4b2a974d",
   "metadata": {},
   "source": [
    "❓Which column is the R? The F? The M?"
   ]
  },
  {
   "cell_type": "code",
   "execution_count": null,
   "id": "90537acb",
   "metadata": {},
   "outputs": [],
   "source": []
  },
  {
   "cell_type": "markdown",
   "id": "5c6f883e",
   "metadata": {},
   "source": [
    "Now for each metric independantly, build clutsers (Hint 1: you can use `.describe()` to have insights about each metrics. Hint 2: Don't choose more than 3 clusters)"
   ]
  },
  {
   "cell_type": "code",
   "execution_count": null,
   "id": "3862e85c",
   "metadata": {},
   "outputs": [],
   "source": []
  },
  {
   "cell_type": "markdown",
   "id": "d8645e36",
   "metadata": {},
   "source": [
    "Now that you have clusters for each category, explain the different buying behaviors"
   ]
  },
  {
   "cell_type": "code",
   "execution_count": null,
   "id": "1979b878",
   "metadata": {},
   "outputs": [],
   "source": []
  },
  {
   "cell_type": "markdown",
   "id": "03b53c3b",
   "metadata": {},
   "source": [
    "# Working with cohorts"
   ]
  },
  {
   "cell_type": "markdown",
   "id": "cc666fc8",
   "metadata": {},
   "source": [
    "❓What is a cohort? "
   ]
  },
  {
   "cell_type": "markdown",
   "id": "ba191ac8",
   "metadata": {},
   "source": [
    "**A group of people with a shared characteristic.**"
   ]
  },
  {
   "cell_type": "markdown",
   "id": "ab4eb364",
   "metadata": {},
   "source": [
    "❓Why is it interesting to analyse cohorts ? "
   ]
  },
  {
   "cell_type": "markdown",
   "id": "ad6a3733",
   "metadata": {},
   "source": [
    "**It helps to separate growth metrics from engagement metrics as growth can easily mask engagement problems**"
   ]
  },
  {
   "cell_type": "markdown",
   "id": "d3750408",
   "metadata": {
    "ExecuteTime": {
     "end_time": "2021-10-02T12:45:56.885240Z",
     "start_time": "2021-10-02T12:45:56.851306Z"
    }
   },
   "source": [
    "❓What data (already existing in the original dataset) do we need to build a cohort?"
   ]
  },
  {
   "cell_type": "markdown",
   "id": "83b23560",
   "metadata": {},
   "source": [
    "**order_purchase_timestamp**  \n",
    "**customer_unique_id**  \n",
    "**payment_value**"
   ]
  },
  {
   "cell_type": "markdown",
   "id": "b787077e",
   "metadata": {
    "ExecuteTime": {
     "end_time": "2021-10-02T12:49:04.915097Z",
     "start_time": "2021-10-02T12:49:04.910544Z"
    }
   },
   "source": [
    "Build a new df with just these 3 features"
   ]
  },
  {
   "cell_type": "code",
   "execution_count": 21,
   "id": "d247b49b",
   "metadata": {},
   "outputs": [],
   "source": [
    "df_c = df.copy()"
   ]
  },
  {
   "cell_type": "code",
   "execution_count": 22,
   "id": "8efc8c5b",
   "metadata": {},
   "outputs": [],
   "source": [
    "df_c = df[[ \"customer_unique_id\", \"order_id\",\"order_purchase_timestamp\"]]"
   ]
  },
  {
   "cell_type": "markdown",
   "id": "0d8d1624",
   "metadata": {},
   "source": [
    "Using the `pandas.Serie.dt.to_period()` methode, create a new feature converting `order_purchase_timestamp` in months"
   ]
  },
  {
   "cell_type": "code",
   "execution_count": 23,
   "id": "adcaebea",
   "metadata": {},
   "outputs": [
    {
     "name": "stderr",
     "output_type": "stream",
     "text": [
      "C:\\Users\\Simplon\\anaconda3\\lib\\site-packages\\pandas\\core\\frame.py:3607: SettingWithCopyWarning: \n",
      "A value is trying to be set on a copy of a slice from a DataFrame.\n",
      "Try using .loc[row_indexer,col_indexer] = value instead\n",
      "\n",
      "See the caveats in the documentation: https://pandas.pydata.org/pandas-docs/stable/user_guide/indexing.html#returning-a-view-versus-a-copy\n",
      "  self._set_item(key, value)\n"
     ]
    },
    {
     "data": {
      "text/plain": [
       "0         2017-10\n",
       "1         2017-10\n",
       "2         2017-10\n",
       "3         2018-07\n",
       "4         2018-08\n",
       "           ...   \n",
       "105378    2017-03\n",
       "105379    2018-02\n",
       "105380    2017-08\n",
       "105381    2018-01\n",
       "105382    2018-03\n",
       "Name: order_purchase_timestamp, Length: 105383, dtype: period[M]"
      ]
     },
     "execution_count": 23,
     "metadata": {},
     "output_type": "execute_result"
    }
   ],
   "source": [
    "df_c[\"order_purchase_timestamp\"]= pd.to_datetime(df_c[\"order_purchase_timestamp\"])\n",
    "df_c[\"order_purchase_timestamp\"].dt.to_period(\"M\")"
   ]
  },
  {
   "cell_type": "markdown",
   "id": "ceb0652f",
   "metadata": {},
   "source": [
    "Create a new feature called `cohort` by grouping the previous df by `customer_unique_id`, and tranforming it's minimum value in months (with the same `pandas.Serie.dt.to_period()` as before)"
   ]
  },
  {
   "cell_type": "code",
   "execution_count": 24,
   "id": "ca4a5079",
   "metadata": {
    "scrolled": true
   },
   "outputs": [
    {
     "name": "stderr",
     "output_type": "stream",
     "text": [
      "C:\\Users\\Simplon\\anaconda3\\lib\\site-packages\\pandas\\core\\frame.py:3607: SettingWithCopyWarning: \n",
      "A value is trying to be set on a copy of a slice from a DataFrame.\n",
      "Try using .loc[row_indexer,col_indexer] = value instead\n",
      "\n",
      "See the caveats in the documentation: https://pandas.pydata.org/pandas-docs/stable/user_guide/indexing.html#returning-a-view-versus-a-copy\n",
      "  self._set_item(key, value)\n"
     ]
    }
   ],
   "source": [
    "df_c[\"order_month\"]= pd.to_datetime(df_c[\"order_purchase_timestamp\"])\n",
    "df_c[\"order_month\"]= df_c[\"order_month\"].dt.to_period(\"M\")"
   ]
  },
  {
   "cell_type": "code",
   "execution_count": 25,
   "id": "aea7a364",
   "metadata": {
    "ExecuteTime": {
     "end_time": "2021-10-03T11:52:19.937302Z",
     "start_time": "2021-10-03T11:52:19.447211Z"
    }
   },
   "outputs": [],
   "source": [
    "# For the teachers, To filter by only the customer that have done 2 or more purchases\n",
    "df_more =pd.DataFrame(df_c.groupby('customer_unique_id').size()[df_c.groupby('customer_unique_id').size() > 1])\n",
    "df_c = df_c.merge(df_more, how='left', on='customer_unique_id').rename(columns={0:'na'})"
   ]
  },
  {
   "cell_type": "code",
   "execution_count": 26,
   "id": "af0a497a",
   "metadata": {},
   "outputs": [
    {
     "data": {
      "text/html": [
       "<div>\n",
       "<style scoped>\n",
       "    .dataframe tbody tr th:only-of-type {\n",
       "        vertical-align: middle;\n",
       "    }\n",
       "\n",
       "    .dataframe tbody tr th {\n",
       "        vertical-align: top;\n",
       "    }\n",
       "\n",
       "    .dataframe thead th {\n",
       "        text-align: right;\n",
       "    }\n",
       "</style>\n",
       "<table border=\"1\" class=\"dataframe\">\n",
       "  <thead>\n",
       "    <tr style=\"text-align: right;\">\n",
       "      <th></th>\n",
       "      <th>customer_unique_id</th>\n",
       "      <th>order_id</th>\n",
       "      <th>order_purchase_timestamp</th>\n",
       "      <th>order_month</th>\n",
       "      <th>na</th>\n",
       "    </tr>\n",
       "  </thead>\n",
       "  <tbody>\n",
       "    <tr>\n",
       "      <th>0</th>\n",
       "      <td>7c396fd4830fd04220f754e42b4e5bff</td>\n",
       "      <td>e481f51cbdc54678b7cc49136f2d6af7</td>\n",
       "      <td>2017-10-02 10:56:33</td>\n",
       "      <td>2017-10</td>\n",
       "      <td>4.0</td>\n",
       "    </tr>\n",
       "    <tr>\n",
       "      <th>1</th>\n",
       "      <td>7c396fd4830fd04220f754e42b4e5bff</td>\n",
       "      <td>e481f51cbdc54678b7cc49136f2d6af7</td>\n",
       "      <td>2017-10-02 10:56:33</td>\n",
       "      <td>2017-10</td>\n",
       "      <td>4.0</td>\n",
       "    </tr>\n",
       "    <tr>\n",
       "      <th>2</th>\n",
       "      <td>7c396fd4830fd04220f754e42b4e5bff</td>\n",
       "      <td>e481f51cbdc54678b7cc49136f2d6af7</td>\n",
       "      <td>2017-10-02 10:56:33</td>\n",
       "      <td>2017-10</td>\n",
       "      <td>4.0</td>\n",
       "    </tr>\n",
       "    <tr>\n",
       "      <th>3</th>\n",
       "      <td>af07308b275d755c9edb36a90c618231</td>\n",
       "      <td>53cdb2fc8bc7dce0b6741e2150273451</td>\n",
       "      <td>2018-07-24 20:41:37</td>\n",
       "      <td>2018-07</td>\n",
       "      <td>NaN</td>\n",
       "    </tr>\n",
       "    <tr>\n",
       "      <th>4</th>\n",
       "      <td>3a653a41f6f9fc3d2a113cf8398680e8</td>\n",
       "      <td>47770eb9100c2d0c44946d9cf07ec65d</td>\n",
       "      <td>2018-08-08 08:38:49</td>\n",
       "      <td>2018-08</td>\n",
       "      <td>NaN</td>\n",
       "    </tr>\n",
       "    <tr>\n",
       "      <th>...</th>\n",
       "      <td>...</td>\n",
       "      <td>...</td>\n",
       "      <td>...</td>\n",
       "      <td>...</td>\n",
       "      <td>...</td>\n",
       "    </tr>\n",
       "    <tr>\n",
       "      <th>105378</th>\n",
       "      <td>6359f309b166b0196dbf7ad2ac62bb5a</td>\n",
       "      <td>9c5dedf39a927c1b2549525ed64a053c</td>\n",
       "      <td>2017-03-09 09:54:05</td>\n",
       "      <td>2017-03</td>\n",
       "      <td>NaN</td>\n",
       "    </tr>\n",
       "    <tr>\n",
       "      <th>105379</th>\n",
       "      <td>da62f9e57a76d978d02ab5362c509660</td>\n",
       "      <td>63943bddc261676b46f01ca7ac2f7bd8</td>\n",
       "      <td>2018-02-06 12:58:58</td>\n",
       "      <td>2018-02</td>\n",
       "      <td>NaN</td>\n",
       "    </tr>\n",
       "    <tr>\n",
       "      <th>105380</th>\n",
       "      <td>737520a9aad80b3fbbdad19b66b37b30</td>\n",
       "      <td>83c1379a015df1e13d02aae0204711ab</td>\n",
       "      <td>2017-08-27 14:46:43</td>\n",
       "      <td>2017-08</td>\n",
       "      <td>NaN</td>\n",
       "    </tr>\n",
       "    <tr>\n",
       "      <th>105381</th>\n",
       "      <td>5097a5312c8b157bb7be58ae360ef43c</td>\n",
       "      <td>11c177c8e97725db2631073c19f07b62</td>\n",
       "      <td>2018-01-08 21:28:27</td>\n",
       "      <td>2018-01</td>\n",
       "      <td>NaN</td>\n",
       "    </tr>\n",
       "    <tr>\n",
       "      <th>105382</th>\n",
       "      <td>60350aa974b26ff12caad89e55993bd6</td>\n",
       "      <td>66dea50a8b16d9b4dee7af250b4be1a5</td>\n",
       "      <td>2018-03-08 20:57:30</td>\n",
       "      <td>2018-03</td>\n",
       "      <td>NaN</td>\n",
       "    </tr>\n",
       "  </tbody>\n",
       "</table>\n",
       "<p>105383 rows × 5 columns</p>\n",
       "</div>"
      ],
      "text/plain": [
       "                      customer_unique_id                          order_id  \\\n",
       "0       7c396fd4830fd04220f754e42b4e5bff  e481f51cbdc54678b7cc49136f2d6af7   \n",
       "1       7c396fd4830fd04220f754e42b4e5bff  e481f51cbdc54678b7cc49136f2d6af7   \n",
       "2       7c396fd4830fd04220f754e42b4e5bff  e481f51cbdc54678b7cc49136f2d6af7   \n",
       "3       af07308b275d755c9edb36a90c618231  53cdb2fc8bc7dce0b6741e2150273451   \n",
       "4       3a653a41f6f9fc3d2a113cf8398680e8  47770eb9100c2d0c44946d9cf07ec65d   \n",
       "...                                  ...                               ...   \n",
       "105378  6359f309b166b0196dbf7ad2ac62bb5a  9c5dedf39a927c1b2549525ed64a053c   \n",
       "105379  da62f9e57a76d978d02ab5362c509660  63943bddc261676b46f01ca7ac2f7bd8   \n",
       "105380  737520a9aad80b3fbbdad19b66b37b30  83c1379a015df1e13d02aae0204711ab   \n",
       "105381  5097a5312c8b157bb7be58ae360ef43c  11c177c8e97725db2631073c19f07b62   \n",
       "105382  60350aa974b26ff12caad89e55993bd6  66dea50a8b16d9b4dee7af250b4be1a5   \n",
       "\n",
       "       order_purchase_timestamp order_month   na  \n",
       "0           2017-10-02 10:56:33     2017-10  4.0  \n",
       "1           2017-10-02 10:56:33     2017-10  4.0  \n",
       "2           2017-10-02 10:56:33     2017-10  4.0  \n",
       "3           2018-07-24 20:41:37     2018-07  NaN  \n",
       "4           2018-08-08 08:38:49     2018-08  NaN  \n",
       "...                         ...         ...  ...  \n",
       "105378      2017-03-09 09:54:05     2017-03  NaN  \n",
       "105379      2018-02-06 12:58:58     2018-02  NaN  \n",
       "105380      2017-08-27 14:46:43     2017-08  NaN  \n",
       "105381      2018-01-08 21:28:27     2018-01  NaN  \n",
       "105382      2018-03-08 20:57:30     2018-03  NaN  \n",
       "\n",
       "[105383 rows x 5 columns]"
      ]
     },
     "execution_count": 26,
     "metadata": {},
     "output_type": "execute_result"
    }
   ],
   "source": [
    "df_c"
   ]
  },
  {
   "cell_type": "code",
   "execution_count": 27,
   "id": "5f85d23a",
   "metadata": {},
   "outputs": [],
   "source": [
    "df_c = df_c[df_c[\"na\"].notna()]"
   ]
  },
  {
   "cell_type": "code",
   "execution_count": 28,
   "id": "cf6ff52b",
   "metadata": {},
   "outputs": [
    {
     "data": {
      "text/html": [
       "<div>\n",
       "<style scoped>\n",
       "    .dataframe tbody tr th:only-of-type {\n",
       "        vertical-align: middle;\n",
       "    }\n",
       "\n",
       "    .dataframe tbody tr th {\n",
       "        vertical-align: top;\n",
       "    }\n",
       "\n",
       "    .dataframe thead th {\n",
       "        text-align: right;\n",
       "    }\n",
       "</style>\n",
       "<table border=\"1\" class=\"dataframe\">\n",
       "  <thead>\n",
       "    <tr style=\"text-align: right;\">\n",
       "      <th></th>\n",
       "      <th>customer_unique_id</th>\n",
       "      <th>order_id</th>\n",
       "      <th>order_purchase_timestamp</th>\n",
       "      <th>order_month</th>\n",
       "      <th>na</th>\n",
       "    </tr>\n",
       "  </thead>\n",
       "  <tbody>\n",
       "    <tr>\n",
       "      <th>0</th>\n",
       "      <td>7c396fd4830fd04220f754e42b4e5bff</td>\n",
       "      <td>e481f51cbdc54678b7cc49136f2d6af7</td>\n",
       "      <td>2017-10-02 10:56:33</td>\n",
       "      <td>2017-10</td>\n",
       "      <td>4.0</td>\n",
       "    </tr>\n",
       "    <tr>\n",
       "      <th>1</th>\n",
       "      <td>7c396fd4830fd04220f754e42b4e5bff</td>\n",
       "      <td>e481f51cbdc54678b7cc49136f2d6af7</td>\n",
       "      <td>2017-10-02 10:56:33</td>\n",
       "      <td>2017-10</td>\n",
       "      <td>4.0</td>\n",
       "    </tr>\n",
       "    <tr>\n",
       "      <th>2</th>\n",
       "      <td>7c396fd4830fd04220f754e42b4e5bff</td>\n",
       "      <td>e481f51cbdc54678b7cc49136f2d6af7</td>\n",
       "      <td>2017-10-02 10:56:33</td>\n",
       "      <td>2017-10</td>\n",
       "      <td>4.0</td>\n",
       "    </tr>\n",
       "    <tr>\n",
       "      <th>11</th>\n",
       "      <td>299905e3934e9e181bfb2e164dd4b4f8</td>\n",
       "      <td>e69bfb5eb88e0ed6a785585b27e16dbf</td>\n",
       "      <td>2017-07-29 11:55:02</td>\n",
       "      <td>2017-07</td>\n",
       "      <td>2.0</td>\n",
       "    </tr>\n",
       "    <tr>\n",
       "      <th>12</th>\n",
       "      <td>299905e3934e9e181bfb2e164dd4b4f8</td>\n",
       "      <td>e69bfb5eb88e0ed6a785585b27e16dbf</td>\n",
       "      <td>2017-07-29 11:55:02</td>\n",
       "      <td>2017-07</td>\n",
       "      <td>2.0</td>\n",
       "    </tr>\n",
       "    <tr>\n",
       "      <th>...</th>\n",
       "      <td>...</td>\n",
       "      <td>...</td>\n",
       "      <td>...</td>\n",
       "      <td>...</td>\n",
       "      <td>...</td>\n",
       "    </tr>\n",
       "    <tr>\n",
       "      <th>105367</th>\n",
       "      <td>9e4accf95024aa6565ca1efcadb96752</td>\n",
       "      <td>19dba6d1e58b04e7fc820558a38ea398</td>\n",
       "      <td>2018-05-12 13:42:24</td>\n",
       "      <td>2018-05</td>\n",
       "      <td>2.0</td>\n",
       "    </tr>\n",
       "    <tr>\n",
       "      <th>105373</th>\n",
       "      <td>c716cf2b5b86fb24257cffe9e7969df8</td>\n",
       "      <td>9115830be804184b91f5c00f6f49f92d</td>\n",
       "      <td>2017-10-04 19:57:37</td>\n",
       "      <td>2017-10</td>\n",
       "      <td>2.0</td>\n",
       "    </tr>\n",
       "    <tr>\n",
       "      <th>105374</th>\n",
       "      <td>c716cf2b5b86fb24257cffe9e7969df8</td>\n",
       "      <td>9115830be804184b91f5c00f6f49f92d</td>\n",
       "      <td>2017-10-04 19:57:37</td>\n",
       "      <td>2017-10</td>\n",
       "      <td>2.0</td>\n",
       "    </tr>\n",
       "    <tr>\n",
       "      <th>105375</th>\n",
       "      <td>e03dbdf5e56c96b106d8115ac336f47f</td>\n",
       "      <td>aa04ef5214580b06b10e2a378300db44</td>\n",
       "      <td>2017-01-27 00:30:03</td>\n",
       "      <td>2017-01</td>\n",
       "      <td>2.0</td>\n",
       "    </tr>\n",
       "    <tr>\n",
       "      <th>105376</th>\n",
       "      <td>e03dbdf5e56c96b106d8115ac336f47f</td>\n",
       "      <td>aa04ef5214580b06b10e2a378300db44</td>\n",
       "      <td>2017-01-27 00:30:03</td>\n",
       "      <td>2017-01</td>\n",
       "      <td>2.0</td>\n",
       "    </tr>\n",
       "  </tbody>\n",
       "</table>\n",
       "<p>15753 rows × 5 columns</p>\n",
       "</div>"
      ],
      "text/plain": [
       "                      customer_unique_id                          order_id  \\\n",
       "0       7c396fd4830fd04220f754e42b4e5bff  e481f51cbdc54678b7cc49136f2d6af7   \n",
       "1       7c396fd4830fd04220f754e42b4e5bff  e481f51cbdc54678b7cc49136f2d6af7   \n",
       "2       7c396fd4830fd04220f754e42b4e5bff  e481f51cbdc54678b7cc49136f2d6af7   \n",
       "11      299905e3934e9e181bfb2e164dd4b4f8  e69bfb5eb88e0ed6a785585b27e16dbf   \n",
       "12      299905e3934e9e181bfb2e164dd4b4f8  e69bfb5eb88e0ed6a785585b27e16dbf   \n",
       "...                                  ...                               ...   \n",
       "105367  9e4accf95024aa6565ca1efcadb96752  19dba6d1e58b04e7fc820558a38ea398   \n",
       "105373  c716cf2b5b86fb24257cffe9e7969df8  9115830be804184b91f5c00f6f49f92d   \n",
       "105374  c716cf2b5b86fb24257cffe9e7969df8  9115830be804184b91f5c00f6f49f92d   \n",
       "105375  e03dbdf5e56c96b106d8115ac336f47f  aa04ef5214580b06b10e2a378300db44   \n",
       "105376  e03dbdf5e56c96b106d8115ac336f47f  aa04ef5214580b06b10e2a378300db44   \n",
       "\n",
       "       order_purchase_timestamp order_month   na  \n",
       "0           2017-10-02 10:56:33     2017-10  4.0  \n",
       "1           2017-10-02 10:56:33     2017-10  4.0  \n",
       "2           2017-10-02 10:56:33     2017-10  4.0  \n",
       "11          2017-07-29 11:55:02     2017-07  2.0  \n",
       "12          2017-07-29 11:55:02     2017-07  2.0  \n",
       "...                         ...         ...  ...  \n",
       "105367      2018-05-12 13:42:24     2018-05  2.0  \n",
       "105373      2017-10-04 19:57:37     2017-10  2.0  \n",
       "105374      2017-10-04 19:57:37     2017-10  2.0  \n",
       "105375      2017-01-27 00:30:03     2017-01  2.0  \n",
       "105376      2017-01-27 00:30:03     2017-01  2.0  \n",
       "\n",
       "[15753 rows x 5 columns]"
      ]
     },
     "execution_count": 28,
     "metadata": {},
     "output_type": "execute_result"
    }
   ],
   "source": [
    "df_c"
   ]
  },
  {
   "cell_type": "code",
   "execution_count": 29,
   "id": "8a4a949a",
   "metadata": {
    "ExecuteTime": {
     "end_time": "2021-10-03T12:08:07.300810Z",
     "start_time": "2021-10-03T12:08:07.081691Z"
    }
   },
   "outputs": [
    {
     "name": "stderr",
     "output_type": "stream",
     "text": [
      "C:\\Users\\Simplon\\anaconda3\\lib\\site-packages\\pandas\\core\\frame.py:3607: SettingWithCopyWarning: \n",
      "A value is trying to be set on a copy of a slice from a DataFrame.\n",
      "Try using .loc[row_indexer,col_indexer] = value instead\n",
      "\n",
      "See the caveats in the documentation: https://pandas.pydata.org/pandas-docs/stable/user_guide/indexing.html#returning-a-view-versus-a-copy\n",
      "  self._set_item(key, value)\n"
     ]
    },
    {
     "data": {
      "text/html": [
       "<div>\n",
       "<style scoped>\n",
       "    .dataframe tbody tr th:only-of-type {\n",
       "        vertical-align: middle;\n",
       "    }\n",
       "\n",
       "    .dataframe tbody tr th {\n",
       "        vertical-align: top;\n",
       "    }\n",
       "\n",
       "    .dataframe thead th {\n",
       "        text-align: right;\n",
       "    }\n",
       "</style>\n",
       "<table border=\"1\" class=\"dataframe\">\n",
       "  <thead>\n",
       "    <tr style=\"text-align: right;\">\n",
       "      <th></th>\n",
       "      <th>customer_unique_id</th>\n",
       "      <th>order_id</th>\n",
       "      <th>order_purchase_timestamp</th>\n",
       "      <th>order_month</th>\n",
       "      <th>na</th>\n",
       "      <th>cohort</th>\n",
       "    </tr>\n",
       "  </thead>\n",
       "  <tbody>\n",
       "    <tr>\n",
       "      <th>0</th>\n",
       "      <td>7c396fd4830fd04220f754e42b4e5bff</td>\n",
       "      <td>e481f51cbdc54678b7cc49136f2d6af7</td>\n",
       "      <td>2017-10-02 10:56:33</td>\n",
       "      <td>2017-10</td>\n",
       "      <td>4.0</td>\n",
       "      <td>2017-09</td>\n",
       "    </tr>\n",
       "    <tr>\n",
       "      <th>1</th>\n",
       "      <td>7c396fd4830fd04220f754e42b4e5bff</td>\n",
       "      <td>e481f51cbdc54678b7cc49136f2d6af7</td>\n",
       "      <td>2017-10-02 10:56:33</td>\n",
       "      <td>2017-10</td>\n",
       "      <td>4.0</td>\n",
       "      <td>2017-09</td>\n",
       "    </tr>\n",
       "    <tr>\n",
       "      <th>2</th>\n",
       "      <td>7c396fd4830fd04220f754e42b4e5bff</td>\n",
       "      <td>e481f51cbdc54678b7cc49136f2d6af7</td>\n",
       "      <td>2017-10-02 10:56:33</td>\n",
       "      <td>2017-10</td>\n",
       "      <td>4.0</td>\n",
       "      <td>2017-09</td>\n",
       "    </tr>\n",
       "    <tr>\n",
       "      <th>11</th>\n",
       "      <td>299905e3934e9e181bfb2e164dd4b4f8</td>\n",
       "      <td>e69bfb5eb88e0ed6a785585b27e16dbf</td>\n",
       "      <td>2017-07-29 11:55:02</td>\n",
       "      <td>2017-07</td>\n",
       "      <td>2.0</td>\n",
       "      <td>2017-07</td>\n",
       "    </tr>\n",
       "    <tr>\n",
       "      <th>12</th>\n",
       "      <td>299905e3934e9e181bfb2e164dd4b4f8</td>\n",
       "      <td>e69bfb5eb88e0ed6a785585b27e16dbf</td>\n",
       "      <td>2017-07-29 11:55:02</td>\n",
       "      <td>2017-07</td>\n",
       "      <td>2.0</td>\n",
       "      <td>2017-07</td>\n",
       "    </tr>\n",
       "    <tr>\n",
       "      <th>...</th>\n",
       "      <td>...</td>\n",
       "      <td>...</td>\n",
       "      <td>...</td>\n",
       "      <td>...</td>\n",
       "      <td>...</td>\n",
       "      <td>...</td>\n",
       "    </tr>\n",
       "    <tr>\n",
       "      <th>105367</th>\n",
       "      <td>9e4accf95024aa6565ca1efcadb96752</td>\n",
       "      <td>19dba6d1e58b04e7fc820558a38ea398</td>\n",
       "      <td>2018-05-12 13:42:24</td>\n",
       "      <td>2018-05</td>\n",
       "      <td>2.0</td>\n",
       "      <td>2017-09</td>\n",
       "    </tr>\n",
       "    <tr>\n",
       "      <th>105373</th>\n",
       "      <td>c716cf2b5b86fb24257cffe9e7969df8</td>\n",
       "      <td>9115830be804184b91f5c00f6f49f92d</td>\n",
       "      <td>2017-10-04 19:57:37</td>\n",
       "      <td>2017-10</td>\n",
       "      <td>2.0</td>\n",
       "      <td>2017-10</td>\n",
       "    </tr>\n",
       "    <tr>\n",
       "      <th>105374</th>\n",
       "      <td>c716cf2b5b86fb24257cffe9e7969df8</td>\n",
       "      <td>9115830be804184b91f5c00f6f49f92d</td>\n",
       "      <td>2017-10-04 19:57:37</td>\n",
       "      <td>2017-10</td>\n",
       "      <td>2.0</td>\n",
       "      <td>2017-10</td>\n",
       "    </tr>\n",
       "    <tr>\n",
       "      <th>105375</th>\n",
       "      <td>e03dbdf5e56c96b106d8115ac336f47f</td>\n",
       "      <td>aa04ef5214580b06b10e2a378300db44</td>\n",
       "      <td>2017-01-27 00:30:03</td>\n",
       "      <td>2017-01</td>\n",
       "      <td>2.0</td>\n",
       "      <td>2017-01</td>\n",
       "    </tr>\n",
       "    <tr>\n",
       "      <th>105376</th>\n",
       "      <td>e03dbdf5e56c96b106d8115ac336f47f</td>\n",
       "      <td>aa04ef5214580b06b10e2a378300db44</td>\n",
       "      <td>2017-01-27 00:30:03</td>\n",
       "      <td>2017-01</td>\n",
       "      <td>2.0</td>\n",
       "      <td>2017-01</td>\n",
       "    </tr>\n",
       "  </tbody>\n",
       "</table>\n",
       "<p>15753 rows × 6 columns</p>\n",
       "</div>"
      ],
      "text/plain": [
       "                      customer_unique_id                          order_id  \\\n",
       "0       7c396fd4830fd04220f754e42b4e5bff  e481f51cbdc54678b7cc49136f2d6af7   \n",
       "1       7c396fd4830fd04220f754e42b4e5bff  e481f51cbdc54678b7cc49136f2d6af7   \n",
       "2       7c396fd4830fd04220f754e42b4e5bff  e481f51cbdc54678b7cc49136f2d6af7   \n",
       "11      299905e3934e9e181bfb2e164dd4b4f8  e69bfb5eb88e0ed6a785585b27e16dbf   \n",
       "12      299905e3934e9e181bfb2e164dd4b4f8  e69bfb5eb88e0ed6a785585b27e16dbf   \n",
       "...                                  ...                               ...   \n",
       "105367  9e4accf95024aa6565ca1efcadb96752  19dba6d1e58b04e7fc820558a38ea398   \n",
       "105373  c716cf2b5b86fb24257cffe9e7969df8  9115830be804184b91f5c00f6f49f92d   \n",
       "105374  c716cf2b5b86fb24257cffe9e7969df8  9115830be804184b91f5c00f6f49f92d   \n",
       "105375  e03dbdf5e56c96b106d8115ac336f47f  aa04ef5214580b06b10e2a378300db44   \n",
       "105376  e03dbdf5e56c96b106d8115ac336f47f  aa04ef5214580b06b10e2a378300db44   \n",
       "\n",
       "       order_purchase_timestamp order_month   na   cohort  \n",
       "0           2017-10-02 10:56:33     2017-10  4.0  2017-09  \n",
       "1           2017-10-02 10:56:33     2017-10  4.0  2017-09  \n",
       "2           2017-10-02 10:56:33     2017-10  4.0  2017-09  \n",
       "11          2017-07-29 11:55:02     2017-07  2.0  2017-07  \n",
       "12          2017-07-29 11:55:02     2017-07  2.0  2017-07  \n",
       "...                         ...         ...  ...      ...  \n",
       "105367      2018-05-12 13:42:24     2018-05  2.0  2017-09  \n",
       "105373      2017-10-04 19:57:37     2017-10  2.0  2017-10  \n",
       "105374      2017-10-04 19:57:37     2017-10  2.0  2017-10  \n",
       "105375      2017-01-27 00:30:03     2017-01  2.0  2017-01  \n",
       "105376      2017-01-27 00:30:03     2017-01  2.0  2017-01  \n",
       "\n",
       "[15753 rows x 6 columns]"
      ]
     },
     "execution_count": 29,
     "metadata": {},
     "output_type": "execute_result"
    }
   ],
   "source": [
    "df_c['cohort'] = df_c.groupby('customer_unique_id')['order_purchase_timestamp'] \\\n",
    "                 .transform('min') \\\n",
    "                 .dt.to_period('M') \n",
    "df_c"
   ]
  },
  {
   "cell_type": "markdown",
   "id": "d89b989b",
   "metadata": {},
   "source": [
    "Now groupby `['cohort', 'order_month']` and aggregate by `nunique()` `customer_unique_id`"
   ]
  },
  {
   "cell_type": "code",
   "execution_count": 30,
   "id": "c4b8a8a8",
   "metadata": {},
   "outputs": [
    {
     "data": {
      "text/html": [
       "<div>\n",
       "<style scoped>\n",
       "    .dataframe tbody tr th:only-of-type {\n",
       "        vertical-align: middle;\n",
       "    }\n",
       "\n",
       "    .dataframe tbody tr th {\n",
       "        vertical-align: top;\n",
       "    }\n",
       "\n",
       "    .dataframe thead th {\n",
       "        text-align: right;\n",
       "    }\n",
       "</style>\n",
       "<table border=\"1\" class=\"dataframe\">\n",
       "  <thead>\n",
       "    <tr style=\"text-align: right;\">\n",
       "      <th></th>\n",
       "      <th>cohort</th>\n",
       "      <th>order_month</th>\n",
       "      <th>customer_unique_id</th>\n",
       "    </tr>\n",
       "  </thead>\n",
       "  <tbody>\n",
       "    <tr>\n",
       "      <th>0</th>\n",
       "      <td>2016-10</td>\n",
       "      <td>2016-10</td>\n",
       "      <td>25</td>\n",
       "    </tr>\n",
       "    <tr>\n",
       "      <th>1</th>\n",
       "      <td>2016-10</td>\n",
       "      <td>2017-04</td>\n",
       "      <td>1</td>\n",
       "    </tr>\n",
       "    <tr>\n",
       "      <th>2</th>\n",
       "      <td>2016-10</td>\n",
       "      <td>2017-07</td>\n",
       "      <td>1</td>\n",
       "    </tr>\n",
       "    <tr>\n",
       "      <th>3</th>\n",
       "      <td>2016-10</td>\n",
       "      <td>2017-09</td>\n",
       "      <td>1</td>\n",
       "    </tr>\n",
       "    <tr>\n",
       "      <th>4</th>\n",
       "      <td>2016-10</td>\n",
       "      <td>2017-11</td>\n",
       "      <td>1</td>\n",
       "    </tr>\n",
       "    <tr>\n",
       "      <th>...</th>\n",
       "      <td>...</td>\n",
       "      <td>...</td>\n",
       "      <td>...</td>\n",
       "    </tr>\n",
       "    <tr>\n",
       "      <th>217</th>\n",
       "      <td>2018-07</td>\n",
       "      <td>2018-08</td>\n",
       "      <td>44</td>\n",
       "    </tr>\n",
       "    <tr>\n",
       "      <th>218</th>\n",
       "      <td>2018-07</td>\n",
       "      <td>2018-09</td>\n",
       "      <td>2</td>\n",
       "    </tr>\n",
       "    <tr>\n",
       "      <th>219</th>\n",
       "      <td>2018-08</td>\n",
       "      <td>2018-08</td>\n",
       "      <td>246</td>\n",
       "    </tr>\n",
       "    <tr>\n",
       "      <th>220</th>\n",
       "      <td>2018-08</td>\n",
       "      <td>2018-09</td>\n",
       "      <td>7</td>\n",
       "    </tr>\n",
       "    <tr>\n",
       "      <th>221</th>\n",
       "      <td>2018-08</td>\n",
       "      <td>2018-10</td>\n",
       "      <td>2</td>\n",
       "    </tr>\n",
       "  </tbody>\n",
       "</table>\n",
       "<p>222 rows × 3 columns</p>\n",
       "</div>"
      ],
      "text/plain": [
       "      cohort order_month  customer_unique_id\n",
       "0    2016-10     2016-10                  25\n",
       "1    2016-10     2017-04                   1\n",
       "2    2016-10     2017-07                   1\n",
       "3    2016-10     2017-09                   1\n",
       "4    2016-10     2017-11                   1\n",
       "..       ...         ...                 ...\n",
       "217  2018-07     2018-08                  44\n",
       "218  2018-07     2018-09                   2\n",
       "219  2018-08     2018-08                 246\n",
       "220  2018-08     2018-09                   7\n",
       "221  2018-08     2018-10                   2\n",
       "\n",
       "[222 rows x 3 columns]"
      ]
     },
     "execution_count": 30,
     "metadata": {},
     "output_type": "execute_result"
    }
   ],
   "source": [
    "df_c.groupby(['cohort', 'order_month']).agg({\"customer_unique_id\":\"nunique\"}).reset_index()"
   ]
  },
  {
   "cell_type": "markdown",
   "id": "6335ff9e",
   "metadata": {},
   "source": [
    "Finally, create a feature called `['period_number']` where you substract the `cohort` to the `order_month` and get the `'n'` attribute thanks to the `operator.attrgetter` method"
   ]
  },
  {
   "cell_type": "code",
   "execution_count": 31,
   "id": "2ba84282",
   "metadata": {},
   "outputs": [
    {
     "ename": "NameError",
     "evalue": "name 'attrgetter' is not defined",
     "output_type": "error",
     "traceback": [
      "\u001b[1;31m---------------------------------------------------------------------------\u001b[0m",
      "\u001b[1;31mNameError\u001b[0m                                 Traceback (most recent call last)",
      "\u001b[1;32m<ipython-input-31-9b25561aad15>\u001b[0m in \u001b[0;36m<module>\u001b[1;34m\u001b[0m\n\u001b[1;32m----> 1\u001b[1;33m \u001b[0mdf_c\u001b[0m\u001b[1;33m[\u001b[0m\u001b[1;34m'period_number'\u001b[0m\u001b[1;33m]\u001b[0m \u001b[1;33m=\u001b[0m \u001b[1;33m(\u001b[0m\u001b[0mdf_c\u001b[0m\u001b[1;33m.\u001b[0m\u001b[0morder_month\u001b[0m \u001b[1;33m-\u001b[0m \u001b[0mdf_c\u001b[0m\u001b[1;33m.\u001b[0m\u001b[0mcohort\u001b[0m\u001b[1;33m)\u001b[0m\u001b[1;33m.\u001b[0m\u001b[0mapply\u001b[0m\u001b[1;33m(\u001b[0m\u001b[0mattrgetter\u001b[0m\u001b[1;33m(\u001b[0m\u001b[1;34m'n'\u001b[0m\u001b[1;33m)\u001b[0m\u001b[1;33m)\u001b[0m\u001b[1;33m\u001b[0m\u001b[1;33m\u001b[0m\u001b[0m\n\u001b[0m",
      "\u001b[1;31mNameError\u001b[0m: name 'attrgetter' is not defined"
     ]
    }
   ],
   "source": [
    "df_c['period_number'] = (df_c.order_month - df_c.cohort).apply(attrgetter('n'))"
   ]
  },
  {
   "cell_type": "markdown",
   "id": "4bf7d2a1",
   "metadata": {
    "ExecuteTime": {
     "end_time": "2021-10-03T13:45:27.180256Z",
     "start_time": "2021-10-03T13:45:27.158955Z"
    }
   },
   "source": [
    "Explore a cohort (for example 2017-01) and try to understand what it shows"
   ]
  },
  {
   "cell_type": "code",
   "execution_count": null,
   "id": "c0a0604e",
   "metadata": {},
   "outputs": [],
   "source": []
  },
  {
   "cell_type": "markdown",
   "id": "8dceb880",
   "metadata": {},
   "source": [
    "Pivot the DataFrame using the methode : `DataFrame.pivot_table` (hint : use `'cohort'` as `index`, `'period_number'` as columns, and `'n_customers'` as `values`)"
   ]
  },
  {
   "cell_type": "code",
   "execution_count": null,
   "id": "023723ae",
   "metadata": {},
   "outputs": [],
   "source": []
  },
  {
   "cell_type": "markdown",
   "id": "0f4976c1",
   "metadata": {},
   "source": [
    "Now divide all the values (except you column 0) by the column 0 and name this new DataFrame `retention_matrix`"
   ]
  },
  {
   "cell_type": "code",
   "execution_count": null,
   "id": "96ed5e35",
   "metadata": {},
   "outputs": [],
   "source": []
  },
  {
   "cell_type": "markdown",
   "id": "1583a152",
   "metadata": {},
   "source": [
    "Plot your `retention matrix` using the code below : "
   ]
  },
  {
   "cell_type": "code",
   "execution_count": null,
   "id": "1c4f63f2",
   "metadata": {
    "ExecuteTime": {
     "end_time": "2021-10-03T11:53:03.187978Z",
     "start_time": "2021-10-03T11:53:00.110548Z"
    },
    "scrolled": true
   },
   "outputs": [],
   "source": [
    "with sns.axes_style(\"white\"):\n",
    "    fig, ax = plt.subplots(1, 2, figsize=(12, 8), sharey=True, gridspec_kw={'width_ratios': [1, 11]})\n",
    "    \n",
    "    # retention matrix\n",
    "    sns.heatmap(retention_matrix, \n",
    "                mask=retention_matrix.isnull(), \n",
    "                annot=True, \n",
    "                fmt='.0%', \n",
    "                cmap='RdYlGn', \n",
    "                ax=ax[1])\n",
    "    ax[1].set_title('Monthly Cohorts: User Retention', fontsize=16)\n",
    "    ax[1].set(xlabel='# of periods',\n",
    "              ylabel='')\n",
    "\n",
    "    # cohort size\n",
    "    cohort_size_df = pd.DataFrame(cohort_size).rename(columns={0: 'cohort_size'})\n",
    "    white_cmap = mcolors.ListedColormap(['white'])\n",
    "    sns.heatmap(cohort_size_df, \n",
    "                annot=True, \n",
    "                cbar=False, \n",
    "                fmt='g', \n",
    "                cmap=white_cmap, \n",
    "                ax=ax[0])\n",
    "\n",
    "    fig.tight_layout()"
   ]
  },
  {
   "cell_type": "markdown",
   "id": "a90e4ac6",
   "metadata": {},
   "source": [
    "What do you notice? "
   ]
  },
  {
   "cell_type": "code",
   "execution_count": null,
   "id": "7172313c",
   "metadata": {},
   "outputs": [],
   "source": []
  },
  {
   "cell_type": "markdown",
   "id": "52eafd89",
   "metadata": {},
   "source": [
    "How could we have know that before? (hint : Calculate the percentage of customers who have ordered more than once)"
   ]
  },
  {
   "cell_type": "code",
   "execution_count": null,
   "id": "1a17a0dd",
   "metadata": {},
   "outputs": [],
   "source": []
  },
  {
   "cell_type": "markdown",
   "id": "f8a93d2a",
   "metadata": {},
   "source": [
    "Here is the code for the analysis of customers who have bought more than once : "
   ]
  },
  {
   "cell_type": "code",
   "execution_count": null,
   "id": "b8abbc2e",
   "metadata": {
    "ExecuteTime": {
     "end_time": "2021-10-03T14:08:57.428123Z",
     "start_time": "2021-10-03T14:08:54.180728Z"
    }
   },
   "outputs": [],
   "source": [
    "#start from your df created doing the RFM segmentation\n",
    "df_c = df[['customer_unique_id', 'order_id',\n",
    "           'order_purchase_timestamp']].drop_duplicates()\n",
    "\n",
    "df_c['order_month'] = df_c['order_purchase_timestamp'].dt.to_period('M')\n",
    "\n",
    "df_more = pd.DataFrame(df_c.groupby('customer_unique_id').size()[\n",
    "                       df_c.groupby('customer_unique_id').size() > 1])\n",
    "\n",
    "df_c = df_c.merge(df_more, how='left', on='customer_unique_id').rename(\n",
    "    columns={0: 'na'})\n",
    "\n",
    "df_c = df_c[df_c['na'].notna()]\n",
    "df_c['cohort'] = df_c.groupby('customer_unique_id')['order_purchase_timestamp'] \\\n",
    "    .transform('min') \\\n",
    "    .dt.to_period('M')\n",
    "\n",
    "df_cohort = df_c.groupby(['cohort', 'order_month']) \\\n",
    "    .agg(n_customers=('customer_unique_id', 'nunique')) \\\n",
    "    .reset_index(drop=False)\n",
    "df_cohort['period_number'] = (\n",
    "    df_cohort.order_month - df_cohort.cohort).apply(attrgetter('n'))\n",
    "cohort_pivot = df_cohort.pivot_table(index='cohort',\n",
    "                                     columns='period_number',\n",
    "                                     values='n_customers')\n",
    "cohort_size = cohort_pivot.iloc[:, 0]\n",
    "retention_matrix = cohort_pivot.divide(cohort_size, axis=0)\n",
    "\n",
    "with sns.axes_style(\"white\"):\n",
    "    fig, ax = plt.subplots(1, 2, figsize=(12, 8), sharey=True, gridspec_kw={\n",
    "                           'width_ratios': [1, 11]})\n",
    "\n",
    "    # retention matrix\n",
    "    sns.heatmap(retention_matrix,\n",
    "                mask=retention_matrix.isnull(),\n",
    "                annot=True,\n",
    "                fmt='.0%',\n",
    "                cmap='RdYlGn',\n",
    "                ax=ax[1])\n",
    "    ax[1].set_title('Monthly Cohorts: User Retention', fontsize=16)\n",
    "    ax[1].set(xlabel='# of periods',\n",
    "              ylabel='')\n",
    "\n",
    "    # cohort size\n",
    "    cohort_size_df = pd.DataFrame(cohort_size).rename(\n",
    "        columns={0: 'cohort_size'})\n",
    "    white_cmap = mcolors.ListedColormap(['white'])\n",
    "    sns.heatmap(cohort_size_df,\n",
    "                annot=True,\n",
    "                cbar=False,\n",
    "                fmt='g',\n",
    "                cmap=white_cmap,\n",
    "                ax=ax[0])\n",
    "\n",
    "    fig.tight_layout()"
   ]
  }
 ],
 "metadata": {
  "hide_input": false,
  "kernelspec": {
   "display_name": "Python 3 (ipykernel)",
   "language": "python",
   "name": "python3"
  },
  "language_info": {
   "codemirror_mode": {
    "name": "ipython",
    "version": 3
   },
   "file_extension": ".py",
   "mimetype": "text/x-python",
   "name": "python",
   "nbconvert_exporter": "python",
   "pygments_lexer": "ipython3",
   "version": "3.8.8"
  },
  "toc": {
   "base_numbering": 1,
   "nav_menu": {},
   "number_sections": true,
   "sideBar": true,
   "skip_h1_title": false,
   "title_cell": "Table of Contents",
   "title_sidebar": "Contents",
   "toc_cell": true,
   "toc_position": {},
   "toc_section_display": true,
   "toc_window_display": false
  },
  "varInspector": {
   "cols": {
    "lenName": 16,
    "lenType": 16,
    "lenVar": 40
   },
   "kernels_config": {
    "python": {
     "delete_cmd_postfix": "",
     "delete_cmd_prefix": "del ",
     "library": "var_list.py",
     "varRefreshCmd": "print(var_dic_list())"
    },
    "r": {
     "delete_cmd_postfix": ") ",
     "delete_cmd_prefix": "rm(",
     "library": "var_list.r",
     "varRefreshCmd": "cat(var_dic_list()) "
    }
   },
   "types_to_exclude": [
    "module",
    "function",
    "builtin_function_or_method",
    "instance",
    "_Feature"
   ],
   "window_display": false
  }
 },
 "nbformat": 4,
 "nbformat_minor": 5
}
