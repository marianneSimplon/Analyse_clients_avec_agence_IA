{
 "cells": [
  {
   "cell_type": "markdown",
   "id": "comprehensive-warehouse",
   "metadata": {
    "id": "comprehensive-warehouse"
   },
   "source": [
    "# Customer analysis"
   ]
  },
  {
   "cell_type": "markdown",
   "id": "working-earth",
   "metadata": {
    "id": "working-earth"
   },
   "source": [
    "In this exercise, you work for a consulting firm as data analyst. One of your clients asked for help to understand its customer buying behavior. \n",
    "\n",
    "You dispose of a dataset from its e-commerce website with 13 features\n",
    "\n",
    "- `order_id` : ID if the order\n",
    "- order_status : Status of the order\n",
    "- order_purchase_timestamp : Timestamp of the purchase\n",
    "- order_delivered_customer_date : Timestamp of the delivery to the customer\n",
    "- payment_type : Method of payment\n",
    "- payment_installments : Number of payments for this purchase (does NOT affect the payment value)\n",
    "- payment_value : Total amount of the payment\n",
    "- review_score : Score given by the client, ranges from 1 to 5\n",
    "- customer_unique_id : ID of the customer who purchased\n",
    "- customer_zip_code_prefix : Zip code of the customer\n",
    "- customer_city : City of the customer\n",
    "- customer_state : State of the customer\n",
    "- product_category_name_english : Name of the product category in English\n",
    "\n",
    "With this data, you have to analyze customer behavior with two techniques:\n",
    "\n",
    "- Customer segmentation with RFM\n",
    "- Cohort analysis from Sept 2016 to October 2018.\n",
    "\n",
    "At the end, you have to present your analysis with actionable insights to improve the customer relationship of your client. "
   ]
  },
  {
   "cell_type": "markdown",
   "id": "e34741c0",
   "metadata": {
    "id": "e34741c0"
   },
   "source": [
    "# Understanding RFM Segmentation "
   ]
  },
  {
   "cell_type": "markdown",
   "id": "fe5120cd",
   "metadata": {
    "ExecuteTime": {
     "end_time": "2021-09-30T14:30:02.324575Z",
     "start_time": "2021-09-30T14:30:02.319234Z"
    },
    "id": "fe5120cd"
   },
   "source": [
    "❓ What are the 3 metrics used in an RFM Segmentation? (hint : What does RFM stand for?) "
   ]
  },
  {
   "cell_type": "markdown",
   "id": "ee33d315",
   "metadata": {
    "id": "ee33d315",
    "pycharm": {
     "name": "#%% md\n"
    }
   },
   "source": [
    "> RFM Segmentation metrics are recency, frequency, and monetary value"
   ]
  },
  {
   "cell_type": "markdown",
   "id": "f556245c",
   "metadata": {
    "id": "f556245c"
   },
   "source": [
    "❓ Can you summarize what each metric measures in one sentence?"
   ]
  },
  {
   "cell_type": "markdown",
   "id": "bfa42146",
   "metadata": {
    "id": "bfa42146",
    "pycharm": {
     "name": "#%% md\n"
    }
   },
   "source": [
    "> Recency measures customer activity (time since last order), frequency defines transactions/visits regularity and monetary metric points out customer's purchasing power."
   ]
  },
  {
   "cell_type": "markdown",
   "id": "98be1bfe",
   "metadata": {
    "id": "98be1bfe"
   },
   "source": [
    "❓ What data / or type of data do you need for each metric ? "
   ]
  },
  {
   "cell_type": "markdown",
   "id": "257cfa02",
   "metadata": {
    "id": "257cfa02",
    "pycharm": {
     "name": "#%% md\n"
    }
   },
   "source": [
    "> Recency will need purchases inherent data as well as their data time, to measure frequency metric we'll need the same type of data as for recency and to define monetary or purchasing power we'll need transactions value in addition of all inherent data."
   ]
  },
  {
   "cell_type": "markdown",
   "id": "40dc1822",
   "metadata": {
    "id": "40dc1822"
   },
   "source": [
    "Let's explore the dataset!"
   ]
  },
  {
   "cell_type": "markdown",
   "id": "digital-cycling",
   "metadata": {
    "id": "digital-cycling"
   },
   "source": [
    "# Exploratory Data Analysis"
   ]
  },
  {
   "cell_type": "markdown",
   "id": "ab179af7",
   "metadata": {
    "pycharm": {
     "name": "#%% md\n"
    }
   },
   "source": [
    "## Importing libraries"
   ]
  },
  {
   "cell_type": "code",
   "execution_count": 67,
   "id": "0a35133c",
   "metadata": {
    "pycharm": {
     "name": "#%%\n"
    }
   },
   "outputs": [],
   "source": [
    "from datetime import timedelta\n",
    "\n",
    "import numpy as np\n",
    "import pandas as pd\n",
    "import matplotlib.pyplot as plt\n",
    "%matplotlib inline\n",
    "import seaborn as sns"
   ]
  },
  {
   "cell_type": "markdown",
   "id": "9fe4d6d2",
   "metadata": {
    "id": "9fe4d6d2"
   },
   "source": [
    "Load the dataset and start an Exploratory Data Analysis"
   ]
  },
  {
   "cell_type": "code",
   "execution_count": 2,
   "id": "1caf4ef5",
   "metadata": {
    "ExecuteTime": {
     "end_time": "2021-10-03T14:07:52.111600Z",
     "start_time": "2021-10-03T14:07:51.598182Z"
    },
    "id": "1caf4ef5"
   },
   "outputs": [
    {
     "data": {
      "text/plain": "                                order_id order_status  \\\n0       e481f51cbdc54678b7cc49136f2d6af7    delivered   \n1       e481f51cbdc54678b7cc49136f2d6af7    delivered   \n2       e481f51cbdc54678b7cc49136f2d6af7    delivered   \n3       53cdb2fc8bc7dce0b6741e2150273451    delivered   \n4       47770eb9100c2d0c44946d9cf07ec65d    delivered   \n...                                  ...          ...   \n105378  9c5dedf39a927c1b2549525ed64a053c    delivered   \n105379  63943bddc261676b46f01ca7ac2f7bd8    delivered   \n105380  83c1379a015df1e13d02aae0204711ab    delivered   \n105381  11c177c8e97725db2631073c19f07b62    delivered   \n105382  66dea50a8b16d9b4dee7af250b4be1a5    delivered   \n\n       order_purchase_timestamp order_delivered_customer_date payment_type  \\\n0           2017-10-02 10:56:33           2017-10-10 21:25:13  credit_card   \n1           2017-10-02 10:56:33           2017-10-10 21:25:13      voucher   \n2           2017-10-02 10:56:33           2017-10-10 21:25:13      voucher   \n3           2018-07-24 20:41:37           2018-08-07 15:27:45       boleto   \n4           2018-08-08 08:38:49           2018-08-17 18:06:29  credit_card   \n...                         ...                           ...          ...   \n105378      2017-03-09 09:54:05           2017-03-17 15:08:01  credit_card   \n105379      2018-02-06 12:58:58           2018-02-28 17:37:56  credit_card   \n105380      2017-08-27 14:46:43           2017-09-21 11:24:17  credit_card   \n105381      2018-01-08 21:28:27           2018-01-25 23:32:54  credit_card   \n105382      2018-03-08 20:57:30           2018-03-16 13:08:30   debit_card   \n\n        payment_installments  payment_value  review_score  \\\n0                        1.0          18.12             4   \n1                        1.0           2.00             4   \n2                        1.0          18.59             4   \n3                        1.0         141.46             4   \n4                        3.0         179.12             5   \n...                      ...            ...           ...   \n105378                   3.0          85.08             5   \n105379                   3.0         195.00             4   \n105380                   5.0         271.01             5   \n105381                   4.0         441.16             2   \n105382                   1.0          86.86             5   \n\n                      customer_unique_id  customer_zip_code_prefix  \\\n0       7c396fd4830fd04220f754e42b4e5bff                      3149   \n1       7c396fd4830fd04220f754e42b4e5bff                      3149   \n2       7c396fd4830fd04220f754e42b4e5bff                      3149   \n3       af07308b275d755c9edb36a90c618231                     47813   \n4       3a653a41f6f9fc3d2a113cf8398680e8                     75265   \n...                                  ...                       ...   \n105378  6359f309b166b0196dbf7ad2ac62bb5a                     12209   \n105379  da62f9e57a76d978d02ab5362c509660                     11722   \n105380  737520a9aad80b3fbbdad19b66b37b30                     45920   \n105381  5097a5312c8b157bb7be58ae360ef43c                     28685   \n105382  60350aa974b26ff12caad89e55993bd6                     83750   \n\n              customer_city customer_state product_category_name_english  \n0                 sao paulo             SP                    housewares  \n1                 sao paulo             SP                    housewares  \n2                 sao paulo             SP                    housewares  \n3                 barreiras             BA                     perfumery  \n4                vianopolis             GO                          auto  \n...                     ...            ...                           ...  \n105378  sao jose dos campos             SP                 health_beauty  \n105379         praia grande             SP                          baby  \n105380          nova vicosa             BA             home_appliances_2  \n105381              japuiba             RJ         computers_accessories  \n105382                 lapa             PR                 health_beauty  \n\n[105383 rows x 13 columns]",
      "text/html": "<div>\n<style scoped>\n    .dataframe tbody tr th:only-of-type {\n        vertical-align: middle;\n    }\n\n    .dataframe tbody tr th {\n        vertical-align: top;\n    }\n\n    .dataframe thead th {\n        text-align: right;\n    }\n</style>\n<table border=\"1\" class=\"dataframe\">\n  <thead>\n    <tr style=\"text-align: right;\">\n      <th></th>\n      <th>order_id</th>\n      <th>order_status</th>\n      <th>order_purchase_timestamp</th>\n      <th>order_delivered_customer_date</th>\n      <th>payment_type</th>\n      <th>payment_installments</th>\n      <th>payment_value</th>\n      <th>review_score</th>\n      <th>customer_unique_id</th>\n      <th>customer_zip_code_prefix</th>\n      <th>customer_city</th>\n      <th>customer_state</th>\n      <th>product_category_name_english</th>\n    </tr>\n  </thead>\n  <tbody>\n    <tr>\n      <th>0</th>\n      <td>e481f51cbdc54678b7cc49136f2d6af7</td>\n      <td>delivered</td>\n      <td>2017-10-02 10:56:33</td>\n      <td>2017-10-10 21:25:13</td>\n      <td>credit_card</td>\n      <td>1.0</td>\n      <td>18.12</td>\n      <td>4</td>\n      <td>7c396fd4830fd04220f754e42b4e5bff</td>\n      <td>3149</td>\n      <td>sao paulo</td>\n      <td>SP</td>\n      <td>housewares</td>\n    </tr>\n    <tr>\n      <th>1</th>\n      <td>e481f51cbdc54678b7cc49136f2d6af7</td>\n      <td>delivered</td>\n      <td>2017-10-02 10:56:33</td>\n      <td>2017-10-10 21:25:13</td>\n      <td>voucher</td>\n      <td>1.0</td>\n      <td>2.00</td>\n      <td>4</td>\n      <td>7c396fd4830fd04220f754e42b4e5bff</td>\n      <td>3149</td>\n      <td>sao paulo</td>\n      <td>SP</td>\n      <td>housewares</td>\n    </tr>\n    <tr>\n      <th>2</th>\n      <td>e481f51cbdc54678b7cc49136f2d6af7</td>\n      <td>delivered</td>\n      <td>2017-10-02 10:56:33</td>\n      <td>2017-10-10 21:25:13</td>\n      <td>voucher</td>\n      <td>1.0</td>\n      <td>18.59</td>\n      <td>4</td>\n      <td>7c396fd4830fd04220f754e42b4e5bff</td>\n      <td>3149</td>\n      <td>sao paulo</td>\n      <td>SP</td>\n      <td>housewares</td>\n    </tr>\n    <tr>\n      <th>3</th>\n      <td>53cdb2fc8bc7dce0b6741e2150273451</td>\n      <td>delivered</td>\n      <td>2018-07-24 20:41:37</td>\n      <td>2018-08-07 15:27:45</td>\n      <td>boleto</td>\n      <td>1.0</td>\n      <td>141.46</td>\n      <td>4</td>\n      <td>af07308b275d755c9edb36a90c618231</td>\n      <td>47813</td>\n      <td>barreiras</td>\n      <td>BA</td>\n      <td>perfumery</td>\n    </tr>\n    <tr>\n      <th>4</th>\n      <td>47770eb9100c2d0c44946d9cf07ec65d</td>\n      <td>delivered</td>\n      <td>2018-08-08 08:38:49</td>\n      <td>2018-08-17 18:06:29</td>\n      <td>credit_card</td>\n      <td>3.0</td>\n      <td>179.12</td>\n      <td>5</td>\n      <td>3a653a41f6f9fc3d2a113cf8398680e8</td>\n      <td>75265</td>\n      <td>vianopolis</td>\n      <td>GO</td>\n      <td>auto</td>\n    </tr>\n    <tr>\n      <th>...</th>\n      <td>...</td>\n      <td>...</td>\n      <td>...</td>\n      <td>...</td>\n      <td>...</td>\n      <td>...</td>\n      <td>...</td>\n      <td>...</td>\n      <td>...</td>\n      <td>...</td>\n      <td>...</td>\n      <td>...</td>\n      <td>...</td>\n    </tr>\n    <tr>\n      <th>105378</th>\n      <td>9c5dedf39a927c1b2549525ed64a053c</td>\n      <td>delivered</td>\n      <td>2017-03-09 09:54:05</td>\n      <td>2017-03-17 15:08:01</td>\n      <td>credit_card</td>\n      <td>3.0</td>\n      <td>85.08</td>\n      <td>5</td>\n      <td>6359f309b166b0196dbf7ad2ac62bb5a</td>\n      <td>12209</td>\n      <td>sao jose dos campos</td>\n      <td>SP</td>\n      <td>health_beauty</td>\n    </tr>\n    <tr>\n      <th>105379</th>\n      <td>63943bddc261676b46f01ca7ac2f7bd8</td>\n      <td>delivered</td>\n      <td>2018-02-06 12:58:58</td>\n      <td>2018-02-28 17:37:56</td>\n      <td>credit_card</td>\n      <td>3.0</td>\n      <td>195.00</td>\n      <td>4</td>\n      <td>da62f9e57a76d978d02ab5362c509660</td>\n      <td>11722</td>\n      <td>praia grande</td>\n      <td>SP</td>\n      <td>baby</td>\n    </tr>\n    <tr>\n      <th>105380</th>\n      <td>83c1379a015df1e13d02aae0204711ab</td>\n      <td>delivered</td>\n      <td>2017-08-27 14:46:43</td>\n      <td>2017-09-21 11:24:17</td>\n      <td>credit_card</td>\n      <td>5.0</td>\n      <td>271.01</td>\n      <td>5</td>\n      <td>737520a9aad80b3fbbdad19b66b37b30</td>\n      <td>45920</td>\n      <td>nova vicosa</td>\n      <td>BA</td>\n      <td>home_appliances_2</td>\n    </tr>\n    <tr>\n      <th>105381</th>\n      <td>11c177c8e97725db2631073c19f07b62</td>\n      <td>delivered</td>\n      <td>2018-01-08 21:28:27</td>\n      <td>2018-01-25 23:32:54</td>\n      <td>credit_card</td>\n      <td>4.0</td>\n      <td>441.16</td>\n      <td>2</td>\n      <td>5097a5312c8b157bb7be58ae360ef43c</td>\n      <td>28685</td>\n      <td>japuiba</td>\n      <td>RJ</td>\n      <td>computers_accessories</td>\n    </tr>\n    <tr>\n      <th>105382</th>\n      <td>66dea50a8b16d9b4dee7af250b4be1a5</td>\n      <td>delivered</td>\n      <td>2018-03-08 20:57:30</td>\n      <td>2018-03-16 13:08:30</td>\n      <td>debit_card</td>\n      <td>1.0</td>\n      <td>86.86</td>\n      <td>5</td>\n      <td>60350aa974b26ff12caad89e55993bd6</td>\n      <td>83750</td>\n      <td>lapa</td>\n      <td>PR</td>\n      <td>health_beauty</td>\n    </tr>\n  </tbody>\n</table>\n<p>105383 rows × 13 columns</p>\n</div>"
     },
     "execution_count": 2,
     "metadata": {},
     "output_type": "execute_result"
    }
   ],
   "source": [
    "df = pd.read_csv('../data/db_customers.csv')\n",
    "df"
   ]
  },
  {
   "cell_type": "code",
   "execution_count": 3,
   "id": "5348be8b",
   "metadata": {
    "pycharm": {
     "name": "#%%\n"
    }
   },
   "outputs": [
    {
     "name": "stdout",
     "output_type": "stream",
     "text": [
      "<class 'pandas.core.frame.DataFrame'>\n",
      "RangeIndex: 105383 entries, 0 to 105382\n",
      "Data columns (total 13 columns):\n",
      " #   Column                         Non-Null Count   Dtype  \n",
      "---  ------                         --------------   -----  \n",
      " 0   order_id                       105383 non-null  object \n",
      " 1   order_status                   105383 non-null  object \n",
      " 2   order_purchase_timestamp       105383 non-null  object \n",
      " 3   order_delivered_customer_date  102224 non-null  object \n",
      " 4   payment_type                   105382 non-null  object \n",
      " 5   payment_installments           105382 non-null  float64\n",
      " 6   payment_value                  105382 non-null  float64\n",
      " 7   review_score                   105383 non-null  int64  \n",
      " 8   customer_unique_id             105383 non-null  object \n",
      " 9   customer_zip_code_prefix       105383 non-null  int64  \n",
      " 10  customer_city                  105383 non-null  object \n",
      " 11  customer_state                 105383 non-null  object \n",
      " 12  product_category_name_english  102973 non-null  object \n",
      "dtypes: float64(2), int64(2), object(9)\n",
      "memory usage: 10.5+ MB\n"
     ]
    }
   ],
   "source": [
    "df.info()"
   ]
  },
  {
   "cell_type": "markdown",
   "id": "7a1219f8",
   "metadata": {
    "id": "7a1219f8"
   },
   "source": [
    "❓ Which features should be formated in datetime ? \n",
    "Convert them"
   ]
  },
  {
   "cell_type": "markdown",
   "id": "57a528fd",
   "metadata": {
    "ExecuteTime": {
     "end_time": "2021-10-03T14:07:52.225702Z",
     "start_time": "2021-10-03T14:07:52.135148Z"
    },
    "id": "57a528fd",
    "pycharm": {
     "name": "#%% md\n"
    }
   },
   "source": [
    "> The features which should be formatted in date time are order_purchase_timestamp and order_delivered_customer_date"
   ]
  },
  {
   "cell_type": "markdown",
   "id": "b51c5e36",
   "metadata": {
    "id": "b51c5e36"
   },
   "source": [
    "❓ Which features are Categorical ? List the unique values on these features."
   ]
  },
  {
   "cell_type": "markdown",
   "id": "4f134505",
   "metadata": {
    "id": "4f134505",
    "pycharm": {
     "name": "#%% md\n"
    }
   },
   "source": [
    "> The categorical features are order_status, payment_type, review_score, customer_zip_code_prefix, customer_city, customer_state and product_category_name_english"
   ]
  },
  {
   "cell_type": "code",
   "execution_count": 6,
   "id": "b5b9f249",
   "metadata": {
    "pycharm": {
     "name": "#%%\n"
    }
   },
   "outputs": [
    {
     "name": "stdout",
     "output_type": "stream",
     "text": [
      "['delivered' 'invoiced' 'shipped' 'processing' 'unavailable' 'canceled'\n",
      " 'created' 'approved']\n",
      "['credit_card' 'voucher' 'boleto' 'debit_card' 'not_defined' nan]\n",
      "[4 5 2 1 3]\n",
      "[ 3149 47813 75265 ... 83870  5127 45920]\n",
      "['sao paulo' 'barreiras' 'vianopolis' ... 'messias targino'\n",
      " 'campo do tenente' 'nova vicosa']\n",
      "['SP' 'BA' 'GO' 'RN' 'PR' 'RS' 'RJ' 'MG' 'SC' 'RR' 'PE' 'TO' 'CE' 'DF'\n",
      " 'SE' 'MT' 'PB' 'PA' 'RO' 'ES' 'AP' 'MS' 'MA' 'PI' 'AL' 'AC' 'AM']\n",
      "['housewares' 'perfumery' 'auto' 'pet_shop' 'stationery' nan\n",
      " 'furniture_decor' 'office_furniture' 'garden_tools'\n",
      " 'computers_accessories' 'bed_bath_table' 'toys'\n",
      " 'construction_tools_construction' 'telephony' 'health_beauty'\n",
      " 'electronics' 'baby' 'cool_stuff' 'watches_gifts' 'air_conditioning'\n",
      " 'sports_leisure' 'books_general_interest' 'small_appliances' 'food'\n",
      " 'luggage_accessories' 'fashion_underwear_beach' 'christmas_supplies'\n",
      " 'fashion_bags_accessories' 'musical_instruments'\n",
      " 'construction_tools_lights' 'books_technical' 'costruction_tools_garden'\n",
      " 'home_appliances' 'market_place' 'agro_industry_and_commerce'\n",
      " 'party_supplies' 'home_confort' 'cds_dvds_musicals'\n",
      " 'industry_commerce_and_business' 'consoles_games' 'furniture_bedroom'\n",
      " 'construction_tools_safety' 'fixed_telephony' 'drinks'\n",
      " 'kitchen_dining_laundry_garden_furniture' 'fashion_shoes'\n",
      " 'home_construction' 'audio' 'home_appliances_2' 'fashion_male_clothing'\n",
      " 'cine_photo' 'furniture_living_room' 'art' 'food_drink'\n",
      " 'tablets_printing_image' 'fashion_sport' 'la_cuisine' 'flowers'\n",
      " 'computers' 'home_comfort_2' 'small_appliances_home_oven_and_coffee'\n",
      " 'dvds_blu_ray' 'costruction_tools_tools' 'fashio_female_clothing'\n",
      " 'furniture_mattress_and_upholstery' 'signaling_and_security'\n",
      " 'diapers_and_hygiene' 'books_imported' 'fashion_childrens_clothes'\n",
      " 'music' 'arts_and_craftmanship' 'security_and_services']\n"
     ]
    }
   ],
   "source": [
    "ctg_features = ['order_status','payment_type', 'review_score',\n",
    "                'customer_zip_code_prefix', 'customer_city', 'customer_state',\n",
    "                'product_category_name_english']\n",
    "\n",
    "for col in ctg_features:\n",
    "    print(df[col].unique())"
   ]
  },
  {
   "cell_type": "markdown",
   "id": "f8494252",
   "metadata": {},
   "source": [
    "❓ Check for missing values. What do you notice ?\n"
   ]
  },
  {
   "cell_type": "code",
   "execution_count": 7,
   "id": "9fe2e534",
   "metadata": {
    "pycharm": {
     "name": "#%%\n"
    }
   },
   "outputs": [
    {
     "data": {
      "text/plain": "order_id                            0\norder_status                        0\norder_purchase_timestamp            0\norder_delivered_customer_date    3159\npayment_type                        1\npayment_installments                1\npayment_value                       1\nreview_score                        0\ncustomer_unique_id                  0\ncustomer_zip_code_prefix            0\ncustomer_city                       0\ncustomer_state                      0\nproduct_category_name_english    2410\ndtype: int64"
     },
     "execution_count": 7,
     "metadata": {},
     "output_type": "execute_result"
    }
   ],
   "source": [
    "missing_values = df.isnull().sum()\n",
    "missing_values"
   ]
  },
  {
   "cell_type": "markdown",
   "id": "fd060b24",
   "metadata": {
    "pycharm": {
     "name": "#%% md\n"
    }
   },
   "source": [
    "> We could notice there are 3159 missing values in order_delivered_customer_date feature and 2410 ones in product_category_name_english.\n"
   ]
  },
  {
   "cell_type": "markdown",
   "id": "0de28796",
   "metadata": {
    "pycharm": {
     "name": "#%% md\n"
    }
   },
   "source": [
    "❓ Can you find an explanation for the missing `order_delivered_customer_date` ?\n",
    "(hint : Check for non delivered orders)"
   ]
  },
  {
   "cell_type": "markdown",
   "id": "65fca0d2",
   "metadata": {
    "pycharm": {
     "name": "#%% md\n"
    }
   },
   "source": [
    "> In order_delivered_customer_date feature, we can suppose there are no date time since no product has still been delivered to the customer."
   ]
  },
  {
   "cell_type": "code",
   "execution_count": 8,
   "id": "6aacacc1",
   "metadata": {
    "pycharm": {
     "name": "#%%\n"
    }
   },
   "outputs": [
    {
     "data": {
      "text/plain": "False    102225\nTrue       3158\nName: order_status, dtype: int64"
     },
     "execution_count": 8,
     "metadata": {},
     "output_type": "execute_result"
    }
   ],
   "source": [
    "orders_delivered = (df['order_status'] != 'delivered').value_counts()\n",
    "orders_delivered"
   ]
  },
  {
   "cell_type": "markdown",
   "id": "279a33df",
   "metadata": {
    "pycharm": {
     "name": "#%% md\n"
    }
   },
   "source": [
    "> As we could see, there are 3158 orders which are not in 'delivered' status, so it's totally fine, even if there is one product who's missing."
   ]
  },
  {
   "cell_type": "markdown",
   "id": "8fda8f88",
   "metadata": {
    "id": "8fda8f88"
   },
   "source": [
    "❓ What are the proportions of each `order_status` ? "
   ]
  },
  {
   "cell_type": "code",
   "execution_count": 9,
   "id": "fbf2835b",
   "metadata": {
    "id": "fbf2835b"
   },
   "outputs": [
    {
     "data": {
      "text/plain": "delivered      97.003312\nshipped         1.119725\ncanceled        0.634827\nunavailable     0.617747\ninvoiced        0.313143\nprocessing      0.304603\ncreated         0.004745\napproved        0.001898\nName: order_status, dtype: float64"
     },
     "execution_count": 9,
     "metadata": {},
     "output_type": "execute_result"
    }
   ],
   "source": [
    "orders_status = df.order_status.value_counts()/df.shape[0]*100\n",
    "orders_status"
   ]
  },
  {
   "cell_type": "markdown",
   "id": "ec529161",
   "metadata": {
    "id": "ec529161"
   },
   "source": [
    "❓ Which `order_status` do you think should be removed from the analysis"
   ]
  },
  {
   "cell_type": "markdown",
   "id": "08091a60",
   "metadata": {
    "id": "08091a60",
    "pycharm": {
     "name": "#%% md\n"
    }
   },
   "source": [
    "> We'll keep delivered and shipped status"
   ]
  },
  {
   "cell_type": "code",
   "execution_count": 10,
   "id": "4dc3528f",
   "metadata": {
    "pycharm": {
     "name": "#%%\n"
    }
   },
   "outputs": [],
   "source": [
    "orders_status = ['delivered', 'shipped']"
   ]
  },
  {
   "cell_type": "markdown",
   "id": "ee08d779",
   "metadata": {
    "id": "ee08d779"
   },
   "source": [
    "❓ What feature would you choose in the e-commerce dataset provided? "
   ]
  },
  {
   "cell_type": "code",
   "execution_count": 11,
   "id": "e0dcace2",
   "metadata": {
    "pycharm": {
     "name": "#%%\n"
    }
   },
   "outputs": [
    {
     "data": {
      "text/plain": "Index(['order_id', 'order_status', 'order_purchase_timestamp',\n       'order_delivered_customer_date', 'payment_type', 'payment_installments',\n       'payment_value', 'review_score', 'customer_unique_id',\n       'customer_zip_code_prefix', 'customer_city', 'customer_state',\n       'product_category_name_english'],\n      dtype='object')"
     },
     "execution_count": 11,
     "metadata": {},
     "output_type": "execute_result"
    }
   ],
   "source": [
    "df.columns"
   ]
  },
  {
   "cell_type": "markdown",
   "id": "8961a988",
   "metadata": {
    "id": "8961a988",
    "pycharm": {
     "name": "#%% md\n"
    }
   },
   "source": [
    "> We'll choose the ones who refers to RFM, which are order_purchase_timestamp, payment_value & order_id as well as customer_unique_id"
   ]
  },
  {
   "cell_type": "code",
   "execution_count": 29,
   "id": "e94aa460",
   "metadata": {
    "pycharm": {
     "name": "#%%\n"
    }
   },
   "outputs": [
    {
     "data": {
      "text/plain": "       order_purchase_timestamp  payment_value  \\\n0           2017-10-02 10:56:33          18.12   \n1           2017-10-02 10:56:33           2.00   \n2           2017-10-02 10:56:33          18.59   \n3           2018-07-24 20:41:37         141.46   \n4           2018-08-08 08:38:49         179.12   \n...                         ...            ...   \n105378      2017-03-09 09:54:05          85.08   \n105379      2018-02-06 12:58:58         195.00   \n105380      2017-08-27 14:46:43         271.01   \n105381      2018-01-08 21:28:27         441.16   \n105382      2018-03-08 20:57:30          86.86   \n\n                                order_id                customer_unique_id  \n0       e481f51cbdc54678b7cc49136f2d6af7  7c396fd4830fd04220f754e42b4e5bff  \n1       e481f51cbdc54678b7cc49136f2d6af7  7c396fd4830fd04220f754e42b4e5bff  \n2       e481f51cbdc54678b7cc49136f2d6af7  7c396fd4830fd04220f754e42b4e5bff  \n3       53cdb2fc8bc7dce0b6741e2150273451  af07308b275d755c9edb36a90c618231  \n4       47770eb9100c2d0c44946d9cf07ec65d  3a653a41f6f9fc3d2a113cf8398680e8  \n...                                  ...                               ...  \n105378  9c5dedf39a927c1b2549525ed64a053c  6359f309b166b0196dbf7ad2ac62bb5a  \n105379  63943bddc261676b46f01ca7ac2f7bd8  da62f9e57a76d978d02ab5362c509660  \n105380  83c1379a015df1e13d02aae0204711ab  737520a9aad80b3fbbdad19b66b37b30  \n105381  11c177c8e97725db2631073c19f07b62  5097a5312c8b157bb7be58ae360ef43c  \n105382  66dea50a8b16d9b4dee7af250b4be1a5  60350aa974b26ff12caad89e55993bd6  \n\n[105383 rows x 4 columns]",
      "text/html": "<div>\n<style scoped>\n    .dataframe tbody tr th:only-of-type {\n        vertical-align: middle;\n    }\n\n    .dataframe tbody tr th {\n        vertical-align: top;\n    }\n\n    .dataframe thead th {\n        text-align: right;\n    }\n</style>\n<table border=\"1\" class=\"dataframe\">\n  <thead>\n    <tr style=\"text-align: right;\">\n      <th></th>\n      <th>order_purchase_timestamp</th>\n      <th>payment_value</th>\n      <th>order_id</th>\n      <th>customer_unique_id</th>\n    </tr>\n  </thead>\n  <tbody>\n    <tr>\n      <th>0</th>\n      <td>2017-10-02 10:56:33</td>\n      <td>18.12</td>\n      <td>e481f51cbdc54678b7cc49136f2d6af7</td>\n      <td>7c396fd4830fd04220f754e42b4e5bff</td>\n    </tr>\n    <tr>\n      <th>1</th>\n      <td>2017-10-02 10:56:33</td>\n      <td>2.00</td>\n      <td>e481f51cbdc54678b7cc49136f2d6af7</td>\n      <td>7c396fd4830fd04220f754e42b4e5bff</td>\n    </tr>\n    <tr>\n      <th>2</th>\n      <td>2017-10-02 10:56:33</td>\n      <td>18.59</td>\n      <td>e481f51cbdc54678b7cc49136f2d6af7</td>\n      <td>7c396fd4830fd04220f754e42b4e5bff</td>\n    </tr>\n    <tr>\n      <th>3</th>\n      <td>2018-07-24 20:41:37</td>\n      <td>141.46</td>\n      <td>53cdb2fc8bc7dce0b6741e2150273451</td>\n      <td>af07308b275d755c9edb36a90c618231</td>\n    </tr>\n    <tr>\n      <th>4</th>\n      <td>2018-08-08 08:38:49</td>\n      <td>179.12</td>\n      <td>47770eb9100c2d0c44946d9cf07ec65d</td>\n      <td>3a653a41f6f9fc3d2a113cf8398680e8</td>\n    </tr>\n    <tr>\n      <th>...</th>\n      <td>...</td>\n      <td>...</td>\n      <td>...</td>\n      <td>...</td>\n    </tr>\n    <tr>\n      <th>105378</th>\n      <td>2017-03-09 09:54:05</td>\n      <td>85.08</td>\n      <td>9c5dedf39a927c1b2549525ed64a053c</td>\n      <td>6359f309b166b0196dbf7ad2ac62bb5a</td>\n    </tr>\n    <tr>\n      <th>105379</th>\n      <td>2018-02-06 12:58:58</td>\n      <td>195.00</td>\n      <td>63943bddc261676b46f01ca7ac2f7bd8</td>\n      <td>da62f9e57a76d978d02ab5362c509660</td>\n    </tr>\n    <tr>\n      <th>105380</th>\n      <td>2017-08-27 14:46:43</td>\n      <td>271.01</td>\n      <td>83c1379a015df1e13d02aae0204711ab</td>\n      <td>737520a9aad80b3fbbdad19b66b37b30</td>\n    </tr>\n    <tr>\n      <th>105381</th>\n      <td>2018-01-08 21:28:27</td>\n      <td>441.16</td>\n      <td>11c177c8e97725db2631073c19f07b62</td>\n      <td>5097a5312c8b157bb7be58ae360ef43c</td>\n    </tr>\n    <tr>\n      <th>105382</th>\n      <td>2018-03-08 20:57:30</td>\n      <td>86.86</td>\n      <td>66dea50a8b16d9b4dee7af250b4be1a5</td>\n      <td>60350aa974b26ff12caad89e55993bd6</td>\n    </tr>\n  </tbody>\n</table>\n<p>105383 rows × 4 columns</p>\n</div>"
     },
     "execution_count": 29,
     "metadata": {},
     "output_type": "execute_result"
    }
   ],
   "source": [
    "X = df[['order_purchase_timestamp', 'payment_value', 'order_id', 'customer_unique_id']]\n",
    "X"
   ]
  },
  {
   "cell_type": "markdown",
   "id": "15ef2508",
   "metadata": {
    "id": "15ef2508"
   },
   "source": [
    "❓ What method would you use to group the data? "
   ]
  },
  {
   "cell_type": "markdown",
   "id": "088b9274",
   "metadata": {
    "id": "088b9274",
    "pycharm": {
     "name": "#%% md\n"
    }
   },
   "source": [
    "> We could use 'group by' method to group the selected data."
   ]
  },
  {
   "cell_type": "markdown",
   "id": "88b13787",
   "metadata": {
    "id": "88b13787"
   },
   "source": [
    "❓ What feature would you use to group the data? "
   ]
  },
  {
   "cell_type": "markdown",
   "id": "ebcf4a86",
   "metadata": {
    "id": "ebcf4a86",
    "pycharm": {
     "name": "#%% md\n"
    }
   },
   "source": [
    "> We'll use 'order_purchase_timestamp', 'payment_value', 'order_id' and 'customer_unique_id' feature."
   ]
  },
  {
   "cell_type": "markdown",
   "id": "3e6e7dd2",
   "metadata": {
    "ExecuteTime": {
     "end_time": "2021-09-30T14:45:48.656723Z",
     "start_time": "2021-09-30T14:45:48.652125Z"
    },
    "id": "3e6e7dd2"
   },
   "source": [
    "Group the data. (Hint: you can carry out the grouping one by one and then merge, or even better use the .agg method and get a robust grouping in one line of code)"
   ]
  },
  {
   "cell_type": "code",
   "execution_count": 54,
   "outputs": [
    {
     "data": {
      "text/plain": "                                  frequency last_purchase_datetime  monetary\ncustomer_unique_id                                                          \n0000366f3b9a7992bf8c76cfdf3221e2          1    2018-05-10 10:56:27    141.90\n0000b849f77a49e4a4ce2b2a4ca5be3f          1    2018-05-07 11:11:27     27.19\n0000f46a3911fa3c0805444483337064          1    2017-03-10 21:05:03     86.22\n0000f6ccb0745a6a4b88665a16c9f078          1    2017-10-12 20:29:41     43.62\n0004aac84e0df4da2b147fca70cf8255          1    2017-11-14 19:45:42    196.89\n...                                     ...                    ...       ...\nfffcf5a5ff07b0908bd4e2dbc735a684          1    2017-06-08 21:00:36   2067.42\nfffea47cd6d3cc0a88bd621562a9d061          1    2017-12-10 20:07:56     84.58\nffff371b4d645b6ecea244b27531430a          1    2017-02-07 15:49:16    112.46\nffff5962728ec6157033ef9805bacc48          1    2018-05-02 15:17:41    133.69\nffffd2657e2aad2907e67c3e9daecbeb          1    2017-05-02 20:18:45     71.56\n\n[96096 rows x 3 columns]",
      "text/html": "<div>\n<style scoped>\n    .dataframe tbody tr th:only-of-type {\n        vertical-align: middle;\n    }\n\n    .dataframe tbody tr th {\n        vertical-align: top;\n    }\n\n    .dataframe thead th {\n        text-align: right;\n    }\n</style>\n<table border=\"1\" class=\"dataframe\">\n  <thead>\n    <tr style=\"text-align: right;\">\n      <th></th>\n      <th>frequency</th>\n      <th>last_purchase_datetime</th>\n      <th>monetary</th>\n    </tr>\n    <tr>\n      <th>customer_unique_id</th>\n      <th></th>\n      <th></th>\n      <th></th>\n    </tr>\n  </thead>\n  <tbody>\n    <tr>\n      <th>0000366f3b9a7992bf8c76cfdf3221e2</th>\n      <td>1</td>\n      <td>2018-05-10 10:56:27</td>\n      <td>141.90</td>\n    </tr>\n    <tr>\n      <th>0000b849f77a49e4a4ce2b2a4ca5be3f</th>\n      <td>1</td>\n      <td>2018-05-07 11:11:27</td>\n      <td>27.19</td>\n    </tr>\n    <tr>\n      <th>0000f46a3911fa3c0805444483337064</th>\n      <td>1</td>\n      <td>2017-03-10 21:05:03</td>\n      <td>86.22</td>\n    </tr>\n    <tr>\n      <th>0000f6ccb0745a6a4b88665a16c9f078</th>\n      <td>1</td>\n      <td>2017-10-12 20:29:41</td>\n      <td>43.62</td>\n    </tr>\n    <tr>\n      <th>0004aac84e0df4da2b147fca70cf8255</th>\n      <td>1</td>\n      <td>2017-11-14 19:45:42</td>\n      <td>196.89</td>\n    </tr>\n    <tr>\n      <th>...</th>\n      <td>...</td>\n      <td>...</td>\n      <td>...</td>\n    </tr>\n    <tr>\n      <th>fffcf5a5ff07b0908bd4e2dbc735a684</th>\n      <td>1</td>\n      <td>2017-06-08 21:00:36</td>\n      <td>2067.42</td>\n    </tr>\n    <tr>\n      <th>fffea47cd6d3cc0a88bd621562a9d061</th>\n      <td>1</td>\n      <td>2017-12-10 20:07:56</td>\n      <td>84.58</td>\n    </tr>\n    <tr>\n      <th>ffff371b4d645b6ecea244b27531430a</th>\n      <td>1</td>\n      <td>2017-02-07 15:49:16</td>\n      <td>112.46</td>\n    </tr>\n    <tr>\n      <th>ffff5962728ec6157033ef9805bacc48</th>\n      <td>1</td>\n      <td>2018-05-02 15:17:41</td>\n      <td>133.69</td>\n    </tr>\n    <tr>\n      <th>ffffd2657e2aad2907e67c3e9daecbeb</th>\n      <td>1</td>\n      <td>2017-05-02 20:18:45</td>\n      <td>71.56</td>\n    </tr>\n  </tbody>\n</table>\n<p>96096 rows × 3 columns</p>\n</div>"
     },
     "execution_count": 54,
     "metadata": {},
     "output_type": "execute_result"
    }
   ],
   "source": [
    "customers_df = X.groupby('customer_unique_id').agg(frequency = ('order_id', 'count'),\n",
    "                                                   last_purchase_datetime = ('order_purchase_timestamp', 'max'),\n",
    "                                                   monetary = ('payment_value', 'sum'))\n",
    "customers_df"
   ],
   "metadata": {
    "collapsed": false,
    "pycharm": {
     "name": "#%%\n"
    }
   }
  },
  {
   "cell_type": "markdown",
   "id": "41ade656",
   "metadata": {
    "id": "41ade656"
   },
   "source": [
    "What type of data is the R supposed to be? Is it in the right format? (Hint : investigate the difference between `datetime` and `timedelta`) "
   ]
  },
  {
   "cell_type": "markdown",
   "id": "7c9ddc4c",
   "metadata": {
    "id": "7c9ddc4c",
    "pycharm": {
     "name": "#%% md\n"
    }
   },
   "source": [
    "> Recency data type is supposed to be 'datetime', in this case it should be 'timedelta' type, which represents the difference between two dates or times."
   ]
  },
  {
   "cell_type": "markdown",
   "id": "e9412e54",
   "metadata": {
    "ExecuteTime": {
     "end_time": "2021-09-30T17:12:07.784903Z",
     "start_time": "2021-09-30T17:12:07.774134Z"
    },
    "id": "e9412e54"
   },
   "source": [
    "So there is one more step to carry out before the data is ready : Calculate the recency base on the date of the purchase"
   ]
  },
  {
   "cell_type": "markdown",
   "id": "1d5c27fa",
   "metadata": {
    "id": "1d5c27fa"
   },
   "source": [
    "❓ What is the date of the least purchase?"
   ]
  },
  {
   "cell_type": "code",
   "execution_count": 55,
   "id": "7a483e98",
   "metadata": {
    "id": "7a483e98"
   },
   "outputs": [
    {
     "data": {
      "text/plain": "customer_unique_id\n0000366f3b9a7992bf8c76cfdf3221e2    2018-05-10 10:56:27\n0000b849f77a49e4a4ce2b2a4ca5be3f    2018-05-07 11:11:27\n0000f46a3911fa3c0805444483337064    2017-03-10 21:05:03\n0000f6ccb0745a6a4b88665a16c9f078    2017-10-12 20:29:41\n0004aac84e0df4da2b147fca70cf8255    2017-11-14 19:45:42\n                                           ...         \nfffcf5a5ff07b0908bd4e2dbc735a684    2017-06-08 21:00:36\nfffea47cd6d3cc0a88bd621562a9d061    2017-12-10 20:07:56\nffff371b4d645b6ecea244b27531430a    2017-02-07 15:49:16\nffff5962728ec6157033ef9805bacc48    2018-05-02 15:17:41\nffffd2657e2aad2907e67c3e9daecbeb    2017-05-02 20:18:45\nName: last_purchase_datetime, Length: 96096, dtype: object"
     },
     "execution_count": 55,
     "metadata": {},
     "output_type": "execute_result"
    }
   ],
   "source": [
    "customers_df.last_purchase_datetime"
   ]
  },
  {
   "cell_type": "markdown",
   "id": "4c54092d",
   "metadata": {
    "id": "4c54092d"
   },
   "source": [
    "❓How would you calculate the recency? (hint: what date would you use to compare with the purchase date? Today? probably not...)"
   ]
  },
  {
   "cell_type": "markdown",
   "id": "537c40bb",
   "metadata": {
    "id": "537c40bb",
    "pycharm": {
     "name": "#%% md\n"
    }
   },
   "source": [
    "> I would use the last day of the same year where customer made his last purchase, in this case we'll take their last purchase date and subtract it w/ the last day of the year when this transaction has been made or use the most recent transaction date ever as a reference to calculate days past w/out any transaction passed from this date."
   ]
  },
  {
   "cell_type": "markdown",
   "id": "f6705b2f",
   "metadata": {
    "id": "f6705b2f"
   },
   "source": [
    "Create a feature calculating the difference between `the most recent purchased + 1 day`, and `order_purchase_timestamp`."
   ]
  },
  {
   "cell_type": "code",
   "execution_count": 74,
   "id": "881822f2",
   "metadata": {
    "id": "881822f2"
   },
   "outputs": [
    {
     "name": "stdout",
     "output_type": "stream",
     "text": [
      "2018-10-18 17:30:18\n"
     ]
    }
   ],
   "source": [
    "# Convert InvoiceDate from object to datetime format\n",
    "customers_df['last_purchase_datetime'] = pd.to_datetime(customers_df.last_purchase_datetime)\n",
    "\n",
    "# Create snapshot date + 1 day\n",
    "snapshot_date = customers_df.last_purchase_datetime.max() + timedelta(days=1)\n",
    "print(snapshot_date)"
   ]
  },
  {
   "cell_type": "code",
   "execution_count": 75,
   "outputs": [
    {
     "ename": "TypeError",
     "evalue": "'Timestamp' object is not callable",
     "output_type": "error",
     "traceback": [
      "\u001B[1;31m---------------------------------------------------------------------------\u001B[0m",
      "\u001B[1;31mTypeError\u001B[0m                                 Traceback (most recent call last)",
      "\u001B[1;32m<ipython-input-75-c9222840926d>\u001B[0m in \u001B[0;36m<module>\u001B[1;34m\u001B[0m\n\u001B[0;32m      1\u001B[0m \u001B[1;32mfor\u001B[0m \u001B[0mi\u001B[0m \u001B[1;32min\u001B[0m \u001B[0mcustomers_df\u001B[0m\u001B[1;33m.\u001B[0m\u001B[0mlast_purchase_datetime\u001B[0m\u001B[1;33m:\u001B[0m\u001B[1;33m\u001B[0m\u001B[1;33m\u001B[0m\u001B[0m\n\u001B[1;32m----> 2\u001B[1;33m     \u001B[0mrecency\u001B[0m \u001B[1;33m=\u001B[0m \u001B[1;33m(\u001B[0m\u001B[0msnapshot_date\u001B[0m \u001B[1;33m-\u001B[0m \u001B[0mi\u001B[0m\u001B[1;33m.\u001B[0m\u001B[0mmax\u001B[0m\u001B[1;33m(\u001B[0m\u001B[1;33m)\u001B[0m\u001B[1;33m)\u001B[0m\u001B[1;33m.\u001B[0m\u001B[0mdays\u001B[0m\u001B[1;33m\u001B[0m\u001B[1;33m\u001B[0m\u001B[0m\n\u001B[0m",
      "\u001B[1;31mTypeError\u001B[0m: 'Timestamp' object is not callable"
     ]
    }
   ],
   "source": [
    "for i in customers_df.last_purchase_datetime:\n",
    "    recency = (snapshot_date - i.max()).days"
   ],
   "metadata": {
    "collapsed": false,
    "pycharm": {
     "name": "#%%\n"
    }
   }
  },
  {
   "cell_type": "markdown",
   "id": "258ca32b",
   "metadata": {
    "id": "258ca32b"
   },
   "source": [
    "Now that you have created a new dataset with the right columns, explore it to understand what you created."
   ]
  },
  {
   "cell_type": "markdown",
   "id": "813d87c9",
   "metadata": {
    "id": "813d87c9"
   },
   "source": [
    "❓Which column is the R? The F? The M?"
   ]
  },
  {
   "cell_type": "code",
   "execution_count": null,
   "id": "b7385417",
   "metadata": {
    "id": "b7385417"
   },
   "outputs": [],
   "source": []
  },
  {
   "cell_type": "markdown",
   "id": "06477a58",
   "metadata": {
    "id": "06477a58"
   },
   "source": [
    "Now for each metric independantly, build clutsers (Hint 1: you can use `.describe()` to have insights about each metrics. Hint 2: Don't choose more than 3 clusters)"
   ]
  },
  {
   "cell_type": "code",
   "execution_count": null,
   "id": "50619e6f",
   "metadata": {
    "id": "50619e6f"
   },
   "outputs": [],
   "source": []
  },
  {
   "cell_type": "markdown",
   "id": "1179193a",
   "metadata": {
    "id": "1179193a"
   },
   "source": [
    "Now that you have clusters for each category, explain the different buying behaviors"
   ]
  },
  {
   "cell_type": "code",
   "execution_count": null,
   "id": "cd798bff",
   "metadata": {
    "id": "cd798bff"
   },
   "outputs": [],
   "source": []
  },
  {
   "cell_type": "markdown",
   "id": "35e5c910",
   "metadata": {
    "id": "35e5c910"
   },
   "source": [
    "# Working with cohorts"
   ]
  },
  {
   "cell_type": "markdown",
   "id": "dfff1220",
   "metadata": {
    "id": "dfff1220"
   },
   "source": [
    "❓What is a cohort? "
   ]
  },
  {
   "cell_type": "code",
   "execution_count": null,
   "id": "9f5f8678",
   "metadata": {
    "id": "9f5f8678"
   },
   "outputs": [],
   "source": []
  },
  {
   "cell_type": "markdown",
   "id": "52799839",
   "metadata": {
    "id": "52799839"
   },
   "source": [
    "❓Why is it interesting to analyse cohorts ? "
   ]
  },
  {
   "cell_type": "code",
   "execution_count": null,
   "id": "28f6d4cd",
   "metadata": {
    "id": "28f6d4cd"
   },
   "outputs": [],
   "source": []
  },
  {
   "cell_type": "markdown",
   "id": "6b920111",
   "metadata": {
    "ExecuteTime": {
     "end_time": "2021-10-02T12:45:56.885240Z",
     "start_time": "2021-10-02T12:45:56.851306Z"
    },
    "id": "6b920111"
   },
   "source": [
    "❓What data (already existing in the original dataset) do we need to build a cohort? "
   ]
  },
  {
   "cell_type": "code",
   "execution_count": null,
   "id": "6f65f773",
   "metadata": {
    "id": "6f65f773"
   },
   "outputs": [],
   "source": []
  },
  {
   "cell_type": "markdown",
   "id": "cc8dda95",
   "metadata": {
    "ExecuteTime": {
     "end_time": "2021-10-02T12:49:04.915097Z",
     "start_time": "2021-10-02T12:49:04.910544Z"
    },
    "id": "cc8dda95"
   },
   "source": [
    "Build a new df with just these 3 features"
   ]
  },
  {
   "cell_type": "code",
   "execution_count": null,
   "id": "0cca0c76",
   "metadata": {
    "id": "0cca0c76"
   },
   "outputs": [],
   "source": []
  },
  {
   "cell_type": "markdown",
   "id": "51ebf23b",
   "metadata": {
    "id": "51ebf23b"
   },
   "source": [
    "Using the `pandas.Serie.dt.to_period()` methode, create a new feature converting `order_purchase_timestamp` in months"
   ]
  },
  {
   "cell_type": "code",
   "execution_count": null,
   "id": "bdcf3e15",
   "metadata": {
    "id": "bdcf3e15"
   },
   "outputs": [],
   "source": []
  },
  {
   "cell_type": "markdown",
   "id": "453dcc64",
   "metadata": {
    "id": "453dcc64"
   },
   "source": [
    "Create a new feature called `cohort` by grouping the previous df by `customer_unique_id`, and tranforming it's minimum value in months (with the same `pandas.Serie.dt.to_period()` as before)"
   ]
  },
  {
   "cell_type": "code",
   "execution_count": null,
   "id": "3a6a8791",
   "metadata": {
    "ExecuteTime": {
     "end_time": "2021-10-03T11:52:19.937302Z",
     "start_time": "2021-10-03T11:52:19.447211Z"
    },
    "id": "3a6a8791"
   },
   "outputs": [],
   "source": [
    "# For the teachers, To filter by only the customer that have done 2 or more purchases\n",
    "df_more =pd.DataFrame(df_c.groupby('customer_unique_id').size()[df_c.groupby('customer_unique_id').size() > 1])\n",
    "df_c = df_c.merge(df_more, how='left', on='customer_unique_id').rename(columns={0:'na'},inplace=True)\n",
    "\n",
    "df_c = df_c[df_c['na'].notna()]"
   ]
  },
  {
   "cell_type": "code",
   "execution_count": null,
   "id": "264aa77d",
   "metadata": {
    "ExecuteTime": {
     "end_time": "2021-10-03T12:08:07.300810Z",
     "start_time": "2021-10-03T12:08:07.081691Z"
    },
    "id": "264aa77d"
   },
   "outputs": [],
   "source": [
    "df_c['cohort'] = df_c.groupby('customer_unique_id')['order_purchase_timestamp'] \\\n",
    "                 .transform('min') \\\n",
    "                 .dt.to_period('M') \n",
    "df_c"
   ]
  },
  {
   "cell_type": "markdown",
   "id": "f4922f0d",
   "metadata": {
    "id": "f4922f0d"
   },
   "source": [
    "Now groupby `['cohort', 'order_month']` and aggregate by `nunique()` `customer_unique_id`"
   ]
  },
  {
   "cell_type": "code",
   "execution_count": null,
   "id": "1825900f",
   "metadata": {
    "id": "1825900f"
   },
   "outputs": [],
   "source": []
  },
  {
   "cell_type": "markdown",
   "id": "76bcaf82",
   "metadata": {
    "id": "76bcaf82"
   },
   "source": [
    "Finally, create a feature called `['period_number']` where you substract the `cohort` to the `order_month` and get the `'n'` attribute thanks to the `operator.attrgetter` method"
   ]
  },
  {
   "cell_type": "code",
   "execution_count": null,
   "id": "6904f60a",
   "metadata": {
    "id": "6904f60a"
   },
   "outputs": [],
   "source": []
  },
  {
   "cell_type": "markdown",
   "id": "cd9c4c0a",
   "metadata": {
    "ExecuteTime": {
     "end_time": "2021-10-03T13:45:27.180256Z",
     "start_time": "2021-10-03T13:45:27.158955Z"
    },
    "id": "cd9c4c0a"
   },
   "source": [
    "Explore a cohort (for example 2017-01) and try to understand what it shows"
   ]
  },
  {
   "cell_type": "code",
   "execution_count": null,
   "id": "0637ec31",
   "metadata": {
    "id": "0637ec31"
   },
   "outputs": [],
   "source": []
  },
  {
   "cell_type": "markdown",
   "id": "fec1e6e7",
   "metadata": {
    "id": "fec1e6e7"
   },
   "source": [
    "Pivot the DataFrame using the methode : `DataFrame.pivot_table` (hint : use `'cohort'` as `index`, `'period_number'` as columns, and `'n_customers'` as `values`)"
   ]
  },
  {
   "cell_type": "code",
   "execution_count": null,
   "id": "d273c874",
   "metadata": {
    "id": "d273c874"
   },
   "outputs": [],
   "source": []
  },
  {
   "cell_type": "markdown",
   "id": "fdf4935b",
   "metadata": {
    "id": "fdf4935b"
   },
   "source": [
    "Now divide all the values (except you column 0) by the column 0 and name this new DataFrame `retention_matrix`"
   ]
  },
  {
   "cell_type": "code",
   "execution_count": null,
   "id": "940f0007",
   "metadata": {
    "id": "940f0007"
   },
   "outputs": [],
   "source": []
  },
  {
   "cell_type": "markdown",
   "id": "cb7a4322",
   "metadata": {
    "id": "cb7a4322"
   },
   "source": [
    "Plot your `retention matrix` using the code below : "
   ]
  },
  {
   "cell_type": "code",
   "execution_count": null,
   "id": "d8607a36",
   "metadata": {
    "ExecuteTime": {
     "end_time": "2021-10-03T11:53:03.187978Z",
     "start_time": "2021-10-03T11:53:00.110548Z"
    },
    "id": "d8607a36",
    "scrolled": true
   },
   "outputs": [],
   "source": [
    "\n",
    "with sns.axes_style(\"white\"):\n",
    "    fig, ax = plt.subplots(1, 2, figsize=(12, 8), sharey=True, gridspec_kw={'width_ratios': [1, 11]})\n",
    "    \n",
    "    # retention matrix\n",
    "    sns.heatmap(retention_matrix, \n",
    "                mask=retention_matrix.isnull(), \n",
    "                annot=True, \n",
    "                fmt='.0%', \n",
    "                cmap='RdYlGn', \n",
    "                ax=ax[1])\n",
    "    ax[1].set_title('Monthly Cohorts: User Retention', fontsize=16)\n",
    "    ax[1].set(xlabel='# of periods',\n",
    "              ylabel='')\n",
    "\n",
    "    # cohort size\n",
    "    cohort_size_df = pd.DataFrame(cohort_size).rename(columns={0: 'cohort_size'})\n",
    "    white_cmap = mcolors.ListedColormap(['white'])\n",
    "    sns.heatmap(cohort_size_df, \n",
    "                annot=True, \n",
    "                cbar=False, \n",
    "                fmt='g', \n",
    "                cmap=white_cmap, \n",
    "                ax=ax[0])\n",
    "\n",
    "    fig.tight_layout()\n"
   ]
  },
  {
   "cell_type": "markdown",
   "id": "f84e2c4d",
   "metadata": {
    "id": "f84e2c4d"
   },
   "source": [
    "What do you notice? "
   ]
  },
  {
   "cell_type": "code",
   "execution_count": null,
   "id": "ef83de5b",
   "metadata": {
    "id": "ef83de5b"
   },
   "outputs": [],
   "source": []
  },
  {
   "cell_type": "markdown",
   "id": "f3bc8b49",
   "metadata": {
    "id": "f3bc8b49"
   },
   "source": [
    "How could we have know that before? (hint : Calculate the percentage of customers who have ordered more than once)"
   ]
  },
  {
   "cell_type": "code",
   "execution_count": null,
   "id": "2b0bd39f",
   "metadata": {
    "id": "2b0bd39f"
   },
   "outputs": [],
   "source": []
  },
  {
   "cell_type": "markdown",
   "id": "a3111dcd",
   "metadata": {
    "id": "a3111dcd"
   },
   "source": [
    "Here is the code for the analysis of customers who have bought more than once : "
   ]
  },
  {
   "cell_type": "code",
   "execution_count": null,
   "id": "df3d4035",
   "metadata": {
    "ExecuteTime": {
     "end_time": "2021-10-03T14:08:57.428123Z",
     "start_time": "2021-10-03T14:08:54.180728Z"
    },
    "id": "df3d4035"
   },
   "outputs": [],
   "source": [
    "#start from your df created doing the RFM segmentation\n",
    "df_c = df[['customer_unique_id', 'order_id',\n",
    "           'order_purchase_timestamp']].drop_duplicates()\n",
    "\n",
    "df_c['order_month'] = df_c['order_purchase_timestamp'].dt.to_period('M')\n",
    "\n",
    "df_more = pd.DataFrame(df_c.groupby('customer_unique_id').size()[\n",
    "                       df_c.groupby('customer_unique_id').size() > 1])\n",
    "\n",
    "df_c = df_c.merge(df_more, how='left', on='customer_unique_id').rename(\n",
    "    columns={0: 'na'})\n",
    "\n",
    "df_c = df_c[df_c['na'].notna()]\n",
    "df_c['cohort'] = df_c.groupby('customer_unique_id')['order_purchase_timestamp'] \\\n",
    "    .transform('min') \\\n",
    "    .dt.to_period('M')\n",
    "\n",
    "df_cohort = df_c.groupby(['cohort', 'order_month']) \\\n",
    "    .agg(n_customers=('customer_unique_id', 'nunique')) \\\n",
    "    .reset_index(drop=False)\n",
    "df_cohort['period_number'] = (\n",
    "    df_cohort.order_month - df_cohort.cohort).apply(attrgetter('n'))\n",
    "cohort_pivot = df_cohort.pivot_table(index='cohort',\n",
    "                                     columns='period_number',\n",
    "                                     values='n_customers')\n",
    "cohort_size = cohort_pivot.iloc[:, 0]\n",
    "retention_matrix = cohort_pivot.divide(cohort_size, axis=0)\n",
    "\n",
    "with sns.axes_style(\"white\"):\n",
    "    fig, ax = plt.subplots(1, 2, figsize=(12, 8), sharey=True, gridspec_kw={\n",
    "                           'width_ratios': [1, 11]})\n",
    "\n",
    "    # retention matrix\n",
    "    sns.heatmap(retention_matrix,\n",
    "                mask=retention_matrix.isnull(),\n",
    "                annot=True,\n",
    "                fmt='.0%',\n",
    "                cmap='RdYlGn',\n",
    "                ax=ax[1])\n",
    "    ax[1].set_title('Monthly Cohorts: User Retention', fontsize=16)\n",
    "    ax[1].set(xlabel='# of periods',\n",
    "              ylabel='')\n",
    "\n",
    "    # cohort size\n",
    "    cohort_size_df = pd.DataFrame(cohort_size).rename(\n",
    "        columns={0: 'cohort_size'})\n",
    "    white_cmap = mcolors.ListedColormap(['white'])\n",
    "    sns.heatmap(cohort_size_df,\n",
    "                annot=True,\n",
    "                cbar=False,\n",
    "                fmt='g',\n",
    "                cmap=white_cmap,\n",
    "                ax=ax[0])\n",
    "\n",
    "    fig.tight_layout()"
   ]
  },
  {
   "cell_type": "code",
   "execution_count": null,
   "id": "daae3e6e",
   "metadata": {
    "id": "daae3e6e"
   },
   "outputs": [],
   "source": []
  }
 ],
 "metadata": {
  "colab": {
   "name": "01_Discovering_RFM_ecommerce.ipynb",
   "provenance": []
  },
  "hide_input": false,
  "kernelspec": {
   "display_name": "Python 3",
   "language": "python",
   "name": "python3"
  },
  "language_info": {
   "codemirror_mode": {
    "name": "ipython",
    "version": 3
   },
   "file_extension": ".py",
   "mimetype": "text/x-python",
   "name": "python",
   "nbconvert_exporter": "python",
   "pygments_lexer": "ipython3",
   "version": "3.8.8"
  },
  "toc": {
   "base_numbering": 1,
   "nav_menu": {},
   "number_sections": true,
   "sideBar": true,
   "skip_h1_title": false,
   "title_cell": "Table of Contents",
   "title_sidebar": "Contents",
   "toc_cell": false,
   "toc_position": {},
   "toc_section_display": true,
   "toc_window_display": false
  },
  "varInspector": {
   "cols": {
    "lenName": 16,
    "lenType": 16,
    "lenVar": 40
   },
   "kernels_config": {
    "python": {
     "delete_cmd_postfix": "",
     "delete_cmd_prefix": "del ",
     "library": "var_list.py",
     "varRefreshCmd": "print(var_dic_list())"
    },
    "r": {
     "delete_cmd_postfix": ") ",
     "delete_cmd_prefix": "rm(",
     "library": "var_list.r",
     "varRefreshCmd": "cat(var_dic_list()) "
    }
   },
   "types_to_exclude": [
    "module",
    "function",
    "builtin_function_or_method",
    "instance",
    "_Feature"
   ],
   "window_display": false
  }
 },
 "nbformat": 4,
 "nbformat_minor": 5
}